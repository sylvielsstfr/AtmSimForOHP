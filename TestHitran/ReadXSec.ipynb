{
 "cells": [
  {
   "cell_type": "code",
   "execution_count": 92,
   "metadata": {
    "collapsed": false,
    "deletable": true,
    "editable": true
   },
   "outputs": [
    {
     "name": "stdout",
     "output_type": "stream",
     "text": [
      "5908565b.bib                        O3_240.0_0.0_29164.0-40798.0_04.xsc\r\n",
      "5908565b.bib.html                   O3_260.0_0.0_29164.0-40798.0_04.xsc\r\n",
      "O3_200.0_0.0_29164.0-40798.0_04.xsc O3_280.0_0.0_29164.0-40798.0_04.xsc\r\n",
      "O3_220.0_0.0_29164.0-40798.0_04.xsc O3_300.0_0.0_29164.0-40798.0_04.xsc\r\n"
     ]
    }
   ],
   "source": [
    "!ls O3Xsec"
   ]
  },
  {
   "cell_type": "code",
   "execution_count": 93,
   "metadata": {
    "collapsed": true,
    "deletable": true,
    "editable": true
   },
   "outputs": [],
   "source": [
    "import matplotlib\n",
    "#matplotlib.rc_file(\"templates/matplotlibrc\")\n",
    "import matplotlib.pyplot as plt\n",
    "%matplotlib inline\n",
    "import numpy as np\n",
    "import pandas as pd\n",
    "import os"
   ]
  },
  {
   "cell_type": "code",
   "execution_count": null,
   "metadata": {
    "collapsed": true
   },
   "outputs": [],
   "source": []
  },
  {
   "cell_type": "code",
   "execution_count": 94,
   "metadata": {
    "collapsed": true
   },
   "outputs": [],
   "source": [
    "Ozone_XSecFiles=['O3_200.0_0.0_29164.0-40798.0_04.xsc','O3_220.0_0.0_29164.0-40798.0_04.xsc',\n",
    "'O3_240.0_0.0_29164.0-40798.0_04.xsc','O3_260.0_0.0_29164.0-40798.0_04.xsc',\n",
    "'O3_280.0_0.0_29164.0-40798.0_04.xsc', 'O3_300.0_0.0_29164.0-40798.0_04.xsc']"
   ]
  },
  {
   "cell_type": "code",
   "execution_count": 95,
   "metadata": {
    "collapsed": true
   },
   "outputs": [],
   "source": [
    "NUMIN=29164.0\n",
    "NUMAX=40798.0"
   ]
  },
  {
   "cell_type": "code",
   "execution_count": 96,
   "metadata": {
    "collapsed": true,
    "deletable": true,
    "editable": true
   },
   "outputs": [],
   "source": [
    "file='O3Xsec/O3_300.0_0.0_29164.0-40798.0_04.xsc'"
   ]
  },
  {
   "cell_type": "code",
   "execution_count": 97,
   "metadata": {
    "collapsed": false
   },
   "outputs": [],
   "source": [
    "df=pd.read_table(file,delimiter=' ',usecols=[1,2,3,4,5,6,7,8,9,10]) "
   ]
  },
  {
   "cell_type": "code",
   "execution_count": 98,
   "metadata": {
    "collapsed": false
   },
   "outputs": [],
   "source": [
    "arr=df.values.flatten()"
   ]
  },
  {
   "cell_type": "code",
   "execution_count": 99,
   "metadata": {
    "collapsed": false
   },
   "outputs": [],
   "source": [
    "arr = arr[~np.isnan(arr)]"
   ]
  },
  {
   "cell_type": "code",
   "execution_count": 100,
   "metadata": {
    "collapsed": false,
    "deletable": true,
    "editable": true
   },
   "outputs": [],
   "source": [
    "#arr= np.reshape(df.values, (1,df.shape[0]*df.shape[1]))"
   ]
  },
  {
   "cell_type": "code",
   "execution_count": 101,
   "metadata": {
    "collapsed": false
   },
   "outputs": [],
   "source": [
    "wavenum=np.linspace(NUMIN,NUMAX,arr.shape[0])"
   ]
  },
  {
   "cell_type": "code",
   "execution_count": 102,
   "metadata": {
    "collapsed": false
   },
   "outputs": [
    {
     "data": {
      "text/plain": [
       "[<matplotlib.lines.Line2D at 0x11d223a90>]"
      ]
     },
     "execution_count": 102,
     "metadata": {},
     "output_type": "execute_result"
    },
    {
     "data": {
      "image/png": "[encoded data removed]",
      "text/plain": [
       "<matplotlib.figure.Figure at 0x11cdf1d50>"
      ]
     },
     "metadata": {},
     "output_type": "display_data"
    }
   ],
   "source": [
    "plt.plot(wavenum,arr)"
   ]
  },
  {
   "cell_type": "code",
   "execution_count": 119,
   "metadata": {
    "collapsed": false
   },
   "outputs": [
    {
     "data": {
      "text/plain": [
       "[<matplotlib.lines.Line2D at 0x11dd3a8d0>]"
      ]
     },
     "execution_count": 119,
     "metadata": {},
     "output_type": "execute_result"
    },
    {
     "data": {
      "image/png": "[encoded data removed]",
      "text/plain": [
       "<matplotlib.figure.Figure at 0x11d2ef810>"
      ]
     },
     "metadata": {},
     "output_type": "display_data"
    }
   ],
   "source": [
    "plt.plot(1e7/wavenum,arr)"
   ]
  },
  {
   "cell_type": "code",
   "execution_count": 104,
   "metadata": {
    "collapsed": false
   },
   "outputs": [],
   "source": [
    "file0=os.path.join('O3Xsec',Ozone_XSecFiles[0])\n",
    "df0=pd.read_table(file0,delimiter=' ',usecols=[1,2,3,4,5,6,7,8,9,10]) \n",
    "arr0=df0.values.flatten()\n",
    "arr0 = arr0[~np.isnan(arr0)]"
   ]
  },
  {
   "cell_type": "code",
   "execution_count": 105,
   "metadata": {
    "collapsed": true
   },
   "outputs": [],
   "source": [
    "file1=os.path.join('O3Xsec',Ozone_XSecFiles[1])\n",
    "df1=pd.read_table(file1,delimiter=' ',usecols=[1,2,3,4,5,6,7,8,9,10]) \n",
    "arr1=df1.values.flatten()\n",
    "arr1 = arr1[~np.isnan(arr1)]"
   ]
  },
  {
   "cell_type": "code",
   "execution_count": 106,
   "metadata": {
    "collapsed": true
   },
   "outputs": [],
   "source": [
    "file2=os.path.join('O3Xsec',Ozone_XSecFiles[2])\n",
    "df2=pd.read_table(file2,delimiter=' ',usecols=[1,2,3,4,5,6,7,8,9,10]) \n",
    "arr2=df2.values.flatten()\n",
    "arr2 = arr2[~np.isnan(arr2)]"
   ]
  },
  {
   "cell_type": "code",
   "execution_count": 107,
   "metadata": {
    "collapsed": true
   },
   "outputs": [],
   "source": [
    "file3=os.path.join('O3Xsec',Ozone_XSecFiles[3])\n",
    "df3=pd.read_table(file3,delimiter=' ',usecols=[1,2,3,4,5,6,7,8,9,10]) \n",
    "arr3=df3.values.flatten()\n",
    "arr3 = arr3[~np.isnan(arr3)]"
   ]
  },
  {
   "cell_type": "code",
   "execution_count": 108,
   "metadata": {
    "collapsed": true
   },
   "outputs": [],
   "source": [
    "file4=os.path.join('O3Xsec',Ozone_XSecFiles[4])\n",
    "df4=pd.read_table(file4,delimiter=' ',usecols=[1,2,3,4,5,6,7,8,9,10]) \n",
    "arr4=df4.values.flatten()\n",
    "arr4 = arr4[~np.isnan(arr4)]"
   ]
  },
  {
   "cell_type": "code",
   "execution_count": 110,
   "metadata": {
    "collapsed": true
   },
   "outputs": [],
   "source": [
    "file5=os.path.join('O3Xsec',Ozone_XSecFiles[5])\n",
    "df5=pd.read_table(file5,delimiter=' ',usecols=[1,2,3,4,5,6,7,8,9,10]) \n",
    "arr5=df5.values.flatten()\n",
    "arr5 = arr5[~np.isnan(arr5)]"
   ]
  },
  {
   "cell_type": "code",
   "execution_count": 117,
   "metadata": {
    "collapsed": false
   },
   "outputs": [
    {
     "data": {
      "text/plain": [
       "<matplotlib.legend.Legend at 0x11dac4d50>"
      ]
     },
     "execution_count": 117,
     "metadata": {},
     "output_type": "execute_result"
    },
    {
     "data": {
      "image/png": "[encoded data removed]",
      "text/plain": [
       "<matplotlib.figure.Figure at 0x11da13f10>"
      ]
     },
     "metadata": {},
     "output_type": "display_data"
    }
   ],
   "source": [
    "plt.plot(wavenum,arr0,label='T=200')\n",
    "plt.plot(wavenum,arr1,label='T=220')\n",
    "plt.plot(wavenum,arr2,label='T=240')\n",
    "plt.plot(wavenum,arr3,label='T=260')\n",
    "plt.plot(wavenum,arr4,label='T=280')\n",
    "plt.plot(wavenum,arr5,label='T=300')\n",
    "plt.xlabel('wave number $cm^{-1}$')\n",
    "plt.ylabel('cross-section $cm^{2}$')\n",
    "plt.title('Ozone cross-section')\n",
    "plt.legend(loc='best')"
   ]
  },
  {
   "cell_type": "code",
   "execution_count": 118,
   "metadata": {
    "collapsed": false
   },
   "outputs": [
    {
     "data": {
      "text/plain": [
       "<matplotlib.legend.Legend at 0x11dbd42d0>"
      ]
     },
     "execution_count": 118,
     "metadata": {},
     "output_type": "execute_result"
    },
    {
     "data": {
      "image/png": "[encoded data removed]",
      "text/plain": [
       "<matplotlib.figure.Figure at 0x11db44790>"
      ]
     },
     "metadata": {},
     "output_type": "display_data"
    }
   ],
   "source": [
    "plt.plot(1e7/wavenum,arr0,label='T=200')\n",
    "plt.plot(1e7/wavenum,arr1,label='T=220')\n",
    "plt.plot(1e7/wavenum,arr2,label='T=240')\n",
    "plt.plot(1e7/wavenum,arr3,label='T=260')\n",
    "plt.plot(1e7/wavenum,arr4,label='T=280')\n",
    "plt.plot(1e7/wavenum,arr5,label='T=300')\n",
    "plt.xlabel('wavelength nm')\n",
    "plt.ylabel('cross-section $cm^{2}$')\n",
    "plt.title('Ozone cross-section (Hitran 2017)')\n",
    "plt.legend(loc='best')"
   ]
  },
  {
   "cell_type": "code",
   "execution_count": null,
   "metadata": {
    "collapsed": true
   },
   "outputs": [],
   "source": []
  }
 ],
 "metadata": {
  "anaconda-cloud": {},
  "kernelspec": {
   "display_name": "Python 3",
   "language": "python",
   "name": "python3"
  },
  "language_info": {
   "codemirror_mode": {
    "name": "ipython",
    "version": 3
   },
   "file_extension": ".py",
   "mimetype": "text/x-python",
   "name": "python",
   "nbconvert_exporter": "python",
   "pygments_lexer": "ipython3",
   "version": "3.5.1"
  },
  "toc": {
   "colors": {
    "hover_highlight": "#DAA520",
    "running_highlight": "#FF0000",
    "selected_highlight": "#FFD700"
   },
   "moveMenuLeft": true,
   "nav_menu": {
    "height": "12px",
    "width": "252px"
   },
   "navigate_menu": true,
   "number_sections": true,
   "sideBar": true,
   "threshold": 4,
   "toc_cell": false,
   "toc_section_display": "block",
   "toc_window_display": false,
   "widenNotebook": false
  }
 },
 "nbformat": 4,
 "nbformat_minor": 2
}
