{
 "cells": [
  {
   "cell_type": "markdown",
   "metadata": {
    "deletable": true,
    "editable": true
   },
   "source": [
    "# Transmission of $O_3$\n",
    "- author : Sylvie Dagoret-Campagne\n",
    "- date : 30 avril 2017"
   ]
  },
  {
   "cell_type": "code",
   "execution_count": 1,
   "metadata": {
    "collapsed": false,
    "deletable": true,
    "editable": true
   },
   "outputs": [
    {
     "name": "stderr",
     "output_type": "stream",
     "text": [
      "/Users/dagoret-campagnesylvie/anaconda/envs/pyastrophys/lib/python2.7/site-packages/matplotlib/__init__.py:913: UserWarning: axes.color_cycle is deprecated and replaced with axes.prop_cycle; please use the latter.\n",
      "  warnings.warn(self.msg_depr % (key, alt_key))\n"
     ]
    }
   ],
   "source": [
    "import numpy as np\n",
    "\n",
    "# Set up matplotlib and use a nicer set of plot parameters\n",
    "%config InlineBackend.rc = {}\n",
    "import matplotlib\n",
    "matplotlib.rc_file(\"templates/matplotlibrc\")\n",
    "import matplotlib.pyplot as plt\n",
    "\n",
    "%matplotlib inline\n",
    "\n",
    "import matplotlib as mpl"
   ]
  },
  {
   "cell_type": "code",
   "execution_count": 2,
   "metadata": {
    "collapsed": false,
    "deletable": true,
    "editable": true
   },
   "outputs": [
    {
     "name": "stdout",
     "output_type": "stream",
     "text": [
      "HAPI version: 1.1.0.6\n",
      "To get the most up-to-date version please check http://hitran.org/hapi\n"
     ]
    }
   ],
   "source": [
    "from hapi import *"
   ]
  },
  {
   "cell_type": "code",
   "execution_count": 3,
   "metadata": {
    "collapsed": false,
    "deletable": true,
    "editable": true
   },
   "outputs": [
    {
     "name": "stdout",
     "output_type": "stream",
     "text": [
      "Using data\n",
      "\n",
      "CO2\n",
      "                     Lines parsed: 3831\n",
      "H2O\n",
      "                     Lines parsed: 110080\n",
      "NO2\n",
      "                     Lines parsed: 5873\n",
      "O\n",
      "                     Lines parsed: 80101\n",
      "O2\n",
      "                     Lines parsed: 1180\n",
      "O3\n",
      "                     Lines parsed: 16584\n"
     ]
    }
   ],
   "source": [
    "db_begin('data')"
   ]
  },
  {
   "cell_type": "markdown",
   "metadata": {
    "deletable": true,
    "editable": true
   },
   "source": [
    "# Parameters"
   ]
  },
  {
   "cell_type": "code",
   "execution_count": 17,
   "metadata": {
    "collapsed": false,
    "deletable": true,
    "editable": true
   },
   "outputs": [],
   "source": [
    "WLMIN=300.  # nm\n",
    "WLMAX=1200. # nm\n",
    "\n",
    "NUMIN=1e7/WLMAX  # cm-1\n",
    "NUMAX=1e7/WLMIN  # cm-1"
   ]
  },
  {
   "cell_type": "code",
   "execution_count": 18,
   "metadata": {
    "collapsed": false
   },
   "outputs": [
    {
     "name": "stdout",
     "output_type": "stream",
     "text": [
      "8333.33333333 33333.3333333\n"
     ]
    }
   ],
   "source": [
    "print NUMIN,NUMAX"
   ]
  },
  {
   "cell_type": "code",
   "execution_count": 5,
   "metadata": {
    "collapsed": false,
    "deletable": true,
    "editable": true
   },
   "outputs": [
    {
     "name": "stdout",
     "output_type": "stream",
     "text": [
      "BEGIN DOWNLOAD: O3\n",
      "  65536 bytes written to data/O3.data\n",
      "  65536 bytes written to data/O3.data\n",
      "  65536 bytes written to data/O3.data\n",
      "  65536 bytes written to data/O3.data\n",
      "  65536 bytes written to data/O3.data\n",
      "  65536 bytes written to data/O3.data\n",
      "  65536 bytes written to data/O3.data\n",
      "  65536 bytes written to data/O3.data\n",
      "  65536 bytes written to data/O3.data\n",
      "  65536 bytes written to data/O3.data\n",
      "  65536 bytes written to data/O3.data\n",
      "  65536 bytes written to data/O3.data\n",
      "  65536 bytes written to data/O3.data\n",
      "  65536 bytes written to data/O3.data\n",
      "  65536 bytes written to data/O3.data\n",
      "  65536 bytes written to data/O3.data\n",
      "  65536 bytes written to data/O3.data\n",
      "  65536 bytes written to data/O3.data\n",
      "  65536 bytes written to data/O3.data\n",
      "  65536 bytes written to data/O3.data\n",
      "  65536 bytes written to data/O3.data\n",
      "  65536 bytes written to data/O3.data\n",
      "  65536 bytes written to data/O3.data\n",
      "  65536 bytes written to data/O3.data\n",
      "  65536 bytes written to data/O3.data\n",
      "  65536 bytes written to data/O3.data\n",
      "  65536 bytes written to data/O3.data\n",
      "  65536 bytes written to data/O3.data\n",
      "  65536 bytes written to data/O3.data\n",
      "  65536 bytes written to data/O3.data\n",
      "  65536 bytes written to data/O3.data\n",
      "  65536 bytes written to data/O3.data\n",
      "  65536 bytes written to data/O3.data\n",
      "  65536 bytes written to data/O3.data\n",
      "  65536 bytes written to data/O3.data\n",
      "  65536 bytes written to data/O3.data\n",
      "  65536 bytes written to data/O3.data\n",
      "  65536 bytes written to data/O3.data\n",
      "  65536 bytes written to data/O3.data\n",
      "  65536 bytes written to data/O3.data\n",
      "  65536 bytes written to data/O3.data\n",
      "Header written to data/O3.header\n",
      "END DOWNLOAD\n",
      "                     Lines parsed: 16584\n",
      "PROCESSED\n"
     ]
    }
   ],
   "source": [
    "fetch_by_ids('O3',[16,17,18,19],NUMIN,NUMAX)\n",
    "#fetch('O3',3,1,NUMIN,NUMAX)"
   ]
  },
  {
   "cell_type": "code",
   "execution_count": 6,
   "metadata": {
    "collapsed": true,
    "deletable": true,
    "editable": true
   },
   "outputs": [],
   "source": [
    "x,y=getStickXY('O3')"
   ]
  },
  {
   "cell_type": "code",
   "execution_count": 7,
   "metadata": {
    "collapsed": false,
    "deletable": true,
    "editable": true
   },
   "outputs": [
    {
     "data": {
      "text/plain": [
       "[<matplotlib.lines.Line2D at 0x10e036650>]"
      ]
     },
     "execution_count": 7,
     "metadata": {},
     "output_type": "execute_result"
    },
    {
     "data": {
      "image/png": "[encoded data removed]",
      "text/plain": [
       "<matplotlib.figure.Figure at 0x10e104090>"
      ]
     },
     "metadata": {},
     "output_type": "display_data"
    }
   ],
   "source": [
    "plt.plot(x,y)"
   ]
  },
  {
   "cell_type": "code",
   "execution_count": 8,
   "metadata": {
    "collapsed": false,
    "deletable": true,
    "editable": true
   },
   "outputs": [],
   "source": [
    "nu1,coef1 = absorptionCoefficient_Voigt(Components=((3,1),),SourceTables='O3',OmegaStep=0.0001,Environment={'p': 0.01,'T': 220})"
   ]
  },
  {
   "cell_type": "code",
   "execution_count": 9,
   "metadata": {
    "collapsed": true,
    "deletable": true,
    "editable": true
   },
   "outputs": [],
   "source": [
    "x1,y1=getStickXY('O3')"
   ]
  },
  {
   "cell_type": "code",
   "execution_count": 10,
   "metadata": {
    "collapsed": false,
    "deletable": true,
    "editable": true
   },
   "outputs": [
    {
     "name": "stderr",
     "output_type": "stream",
     "text": [
      "hapi.py:10349: UserWarning: To get the most up-to-date version please check http://hitran.org/hapi\n",
      "  warn('To get the most up-to-date version please check http://hitran.org/hapi')\n"
     ]
    }
   ],
   "source": [
    "nu2,coef2 = absorptionCoefficient_HT(Components=((3,1),),SourceTables='O3',OmegaStep=0.001,Environment={'p': 0.001,'T': 220})"
   ]
  },
  {
   "cell_type": "code",
   "execution_count": 11,
   "metadata": {
    "collapsed": true,
    "deletable": true,
    "editable": true
   },
   "outputs": [],
   "source": [
    "x2,y2=getStickXY('O3')"
   ]
  },
  {
   "cell_type": "code",
   "execution_count": 12,
   "metadata": {
    "collapsed": false,
    "deletable": true,
    "editable": true
   },
   "outputs": [
    {
     "data": {
      "text/plain": [
       "[<matplotlib.lines.Line2D at 0x10e0a3150>]"
      ]
     },
     "execution_count": 12,
     "metadata": {},
     "output_type": "execute_result"
    },
    {
     "data": {
      "image/png": "[encoded data removed]",
      "text/plain": [
       "<matplotlib.figure.Figure at 0x10e0a3410>"
      ]
     },
     "metadata": {},
     "output_type": "display_data"
    }
   ],
   "source": [
    "plt.plot(nu1,coef1,'b-')\n",
    "plt.plot(nu2,coef2,'r-')"
   ]
  },
  {
   "cell_type": "code",
   "execution_count": 13,
   "metadata": {
    "collapsed": false,
    "deletable": true,
    "editable": true
   },
   "outputs": [],
   "source": [
    "#plt.plot(x1,y1,'b-')\n",
    "#plt.plot(x2,y2,'r-')"
   ]
  },
  {
   "cell_type": "code",
   "execution_count": 14,
   "metadata": {
    "collapsed": false,
    "deletable": true,
    "editable": true
   },
   "outputs": [
    {
     "data": {
      "text/plain": [
       "[<matplotlib.lines.Line2D at 0x1126811d0>]"
      ]
     },
     "execution_count": 14,
     "metadata": {},
     "output_type": "execute_result"
    },
    {
     "data": {
      "image/png": "[encoded data removed]",
      "text/plain": [
       "<matplotlib.figure.Figure at 0x105e82810>"
      ]
     },
     "metadata": {},
     "output_type": "display_data"
    }
   ],
   "source": [
    "plt.plot(1e7/nu1,coef1,'b-')\n",
    "plt.plot(1e7/nu2,coef2,'r-')\n",
    "#plt.xlim(600.,800.)"
   ]
  },
  {
   "cell_type": "code",
   "execution_count": 15,
   "metadata": {
    "collapsed": false,
    "deletable": true,
    "editable": true
   },
   "outputs": [],
   "source": [
    "#plt.plot(1e7/x1,y1,'b-')\n",
    "#plt.plot(1e7/x2,y2,'r-')\n",
    "#plt.xlim(600.,800.)"
   ]
  },
  {
   "cell_type": "code",
   "execution_count": null,
   "metadata": {
    "collapsed": true,
    "deletable": true,
    "editable": true
   },
   "outputs": [],
   "source": []
  }
 ],
 "metadata": {
  "anaconda-cloud": {},
  "kernelspec": {
   "display_name": "Python [conda env:pyastrophys]",
   "language": "python",
   "name": "conda-env-pyastrophys-py"
  },
  "language_info": {
   "codemirror_mode": {
    "name": "ipython",
    "version": 2
   },
   "file_extension": ".py",
   "mimetype": "text/x-python",
   "name": "python",
   "nbconvert_exporter": "python",
   "pygments_lexer": "ipython2",
   "version": "2.7.12"
  },
  "toc": {
   "colors": {
    "hover_highlight": "#DAA520",
    "running_highlight": "#FF0000",
    "selected_highlight": "#FFD700"
   },
   "moveMenuLeft": true,
   "nav_menu": {
    "height": "47px",
    "width": "252px"
   },
   "navigate_menu": true,
   "number_sections": true,
   "sideBar": true,
   "threshold": 4,
   "toc_cell": false,
   "toc_section_display": "block",
   "toc_window_display": false,
   "widenNotebook": false
  }
 },
 "nbformat": 4,
 "nbformat_minor": 2
}
