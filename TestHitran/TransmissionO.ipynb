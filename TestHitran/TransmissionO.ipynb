{
 "cells": [
  {
   "cell_type": "markdown",
   "metadata": {
    "deletable": true,
    "editable": true
   },
   "source": [
    "# Transmission of $O$\n",
    "- author : Sylvie Dagoret-Campagne\n",
    "- date : 30 avril 2017"
   ]
  },
  {
   "cell_type": "code",
   "execution_count": 1,
   "metadata": {
    "collapsed": false,
    "deletable": true,
    "editable": true
   },
   "outputs": [
    {
     "name": "stderr",
     "output_type": "stream",
     "text": [
      "/Users/dagoret-campagnesylvie/anaconda/envs/pyastrophys/lib/python2.7/site-packages/matplotlib/__init__.py:913: UserWarning: axes.color_cycle is deprecated and replaced with axes.prop_cycle; please use the latter.\n",
      "  warnings.warn(self.msg_depr % (key, alt_key))\n"
     ]
    }
   ],
   "source": [
    "import numpy as np\n",
    "\n",
    "# Set up matplotlib and use a nicer set of plot parameters\n",
    "%config InlineBackend.rc = {}\n",
    "import matplotlib\n",
    "matplotlib.rc_file(\"templates/matplotlibrc\")\n",
    "import matplotlib.pyplot as plt\n",
    "\n",
    "%matplotlib inline\n",
    "\n",
    "import matplotlib as mpl"
   ]
  },
  {
   "cell_type": "code",
   "execution_count": 2,
   "metadata": {
    "collapsed": false,
    "deletable": true,
    "editable": true
   },
   "outputs": [
    {
     "name": "stdout",
     "output_type": "stream",
     "text": [
      "HAPI version: 1.1.0.6\n",
      "To get the most up-to-date version please check http://hitran.org/hapi\n"
     ]
    }
   ],
   "source": [
    "from hapi import *"
   ]
  },
  {
   "cell_type": "code",
   "execution_count": 3,
   "metadata": {
    "collapsed": false,
    "deletable": true,
    "editable": true
   },
   "outputs": [
    {
     "name": "stdout",
     "output_type": "stream",
     "text": [
      "Using data\n",
      "\n",
      "CO2\n",
      "                     Lines parsed: 3831\n",
      "H2O\n",
      "                     Lines parsed: 110080\n",
      "NO2\n",
      "                     Lines parsed: 5873\n",
      "O2\n",
      "                     Lines parsed: 1180\n",
      "O3\n",
      "                     Lines parsed: 16584\n"
     ]
    }
   ],
   "source": [
    "db_begin('data')"
   ]
  },
  {
   "cell_type": "markdown",
   "metadata": {
    "deletable": true,
    "editable": true
   },
   "source": [
    "# Parameters"
   ]
  },
  {
   "cell_type": "code",
   "execution_count": 4,
   "metadata": {
    "collapsed": false,
    "deletable": true,
    "editable": true
   },
   "outputs": [],
   "source": [
    "WLMIN=300.  # nm\n",
    "WLMAX=1200. # nm\n",
    "\n",
    "NUMIN=1e7/WLMAX  # cm-1\n",
    "NUMAX=1e7/WLMIN  # cm-1"
   ]
  },
  {
   "cell_type": "code",
   "execution_count": 21,
   "metadata": {
    "collapsed": false
   },
   "outputs": [
    {
     "name": "stdout",
     "output_type": "stream",
     "text": [
      "8333.33333333 33333.3333333\n"
     ]
    }
   ],
   "source": [
    "print NUMIN,NUMAX"
   ]
  },
  {
   "cell_type": "code",
   "execution_count": 12,
   "metadata": {
    "collapsed": false,
    "deletable": true,
    "editable": true
   },
   "outputs": [
    {
     "name": "stdout",
     "output_type": "stream",
     "text": [
      "BEGIN DOWNLOAD: O\n",
      "  65536 bytes written to data/O.data\n",
      "  65536 bytes written to data/O.data\n",
      "  65536 bytes written to data/O.data\n",
      "  65536 bytes written to data/O.data\n",
      "  65536 bytes written to data/O.data\n",
      "  65536 bytes written to data/O.data\n",
      "  65536 bytes written to data/O.data\n",
      "  65536 bytes written to data/O.data\n",
      "  65536 bytes written to data/O.data\n",
      "  65536 bytes written to data/O.data\n",
      "  65536 bytes written to data/O.data\n",
      "  65536 bytes written to data/O.data\n",
      "  65536 bytes written to data/O.data\n",
      "  65536 bytes written to data/O.data\n",
      "  65536 bytes written to data/O.data\n",
      "  65536 bytes written to data/O.data\n",
      "  65536 bytes written to data/O.data\n",
      "  65536 bytes written to data/O.data\n",
      "  65536 bytes written to data/O.data\n",
      "  65536 bytes written to data/O.data\n",
      "  65536 bytes written to data/O.data\n",
      "  65536 bytes written to data/O.data\n",
      "  65536 bytes written to data/O.data\n",
      "  65536 bytes written to data/O.data\n",
      "  65536 bytes written to data/O.data\n",
      "  65536 bytes written to data/O.data\n",
      "  65536 bytes written to data/O.data\n",
      "  65536 bytes written to data/O.data\n",
      "  65536 bytes written to data/O.data\n",
      "  65536 bytes written to data/O.data\n",
      "  65536 bytes written to data/O.data\n",
      "  65536 bytes written to data/O.data\n",
      "  65536 bytes written to data/O.data\n",
      "  65536 bytes written to data/O.data\n",
      "  65536 bytes written to data/O.data\n",
      "  65536 bytes written to data/O.data\n",
      "  65536 bytes written to data/O.data\n",
      "  65536 bytes written to data/O.data\n",
      "  65536 bytes written to data/O.data\n",
      "  65536 bytes written to data/O.data\n",
      "  65536 bytes written to data/O.data\n",
      "  65536 bytes written to data/O.data\n",
      "  65536 bytes written to data/O.data\n",
      "  65536 bytes written to data/O.data\n",
      "  65536 bytes written to data/O.data\n",
      "  65536 bytes written to data/O.data\n",
      "  65536 bytes written to data/O.data\n",
      "  65536 bytes written to data/O.data\n",
      "  65536 bytes written to data/O.data\n",
      "  65536 bytes written to data/O.data\n",
      "  65536 bytes written to data/O.data\n",
      "  65536 bytes written to data/O.data\n",
      "  65536 bytes written to data/O.data\n",
      "  65536 bytes written to data/O.data\n",
      "  65536 bytes written to data/O.data\n",
      "  65536 bytes written to data/O.data\n",
      "  65536 bytes written to data/O.data\n",
      "  65536 bytes written to data/O.data\n",
      "  65536 bytes written to data/O.data\n",
      "  65536 bytes written to data/O.data\n",
      "  65536 bytes written to data/O.data\n",
      "  65536 bytes written to data/O.data\n",
      "  65536 bytes written to data/O.data\n",
      "  65536 bytes written to data/O.data\n",
      "  65536 bytes written to data/O.data\n",
      "  65536 bytes written to data/O.data\n",
      "  65536 bytes written to data/O.data\n",
      "  65536 bytes written to data/O.data\n",
      "  65536 bytes written to data/O.data\n",
      "  65536 bytes written to data/O.data\n",
      "  65536 bytes written to data/O.data\n",
      "  65536 bytes written to data/O.data\n",
      "  65536 bytes written to data/O.data\n",
      "  65536 bytes written to data/O.data\n",
      "  65536 bytes written to data/O.data\n",
      "  65536 bytes written to data/O.data\n",
      "  65536 bytes written to data/O.data\n",
      "  65536 bytes written to data/O.data\n",
      "  65536 bytes written to data/O.data\n",
      "  65536 bytes written to data/O.data\n",
      "  65536 bytes written to data/O.data\n",
      "  65536 bytes written to data/O.data\n",
      "  65536 bytes written to data/O.data\n",
      "  65536 bytes written to data/O.data\n",
      "  65536 bytes written to data/O.data\n",
      "  65536 bytes written to data/O.data\n",
      "  65536 bytes written to data/O.data\n",
      "  65536 bytes written to data/O.data\n",
      "  65536 bytes written to data/O.data\n",
      "  65536 bytes written to data/O.data\n",
      "  65536 bytes written to data/O.data\n",
      "  65536 bytes written to data/O.data\n",
      "  65536 bytes written to data/O.data\n",
      "  65536 bytes written to data/O.data\n",
      "  65536 bytes written to data/O.data\n",
      "  65536 bytes written to data/O.data\n",
      "  65536 bytes written to data/O.data\n",
      "  65536 bytes written to data/O.data\n",
      "  65536 bytes written to data/O.data\n",
      "  65536 bytes written to data/O.data\n",
      "  65536 bytes written to data/O.data\n",
      "  65536 bytes written to data/O.data\n",
      "  65536 bytes written to data/O.data\n",
      "  65536 bytes written to data/O.data\n",
      "  65536 bytes written to data/O.data\n",
      "  65536 bytes written to data/O.data\n",
      "  65536 bytes written to data/O.data\n",
      "  65536 bytes written to data/O.data\n",
      "  65536 bytes written to data/O.data\n",
      "  65536 bytes written to data/O.data\n",
      "  65536 bytes written to data/O.data\n",
      "  65536 bytes written to data/O.data\n",
      "  65536 bytes written to data/O.data\n",
      "  65536 bytes written to data/O.data\n",
      "  65536 bytes written to data/O.data\n",
      "  65536 bytes written to data/O.data\n",
      "  65536 bytes written to data/O.data\n",
      "  65536 bytes written to data/O.data\n",
      "  65536 bytes written to data/O.data\n",
      "  65536 bytes written to data/O.data\n",
      "  65536 bytes written to data/O.data\n",
      "  65536 bytes written to data/O.data\n",
      "  65536 bytes written to data/O.data\n",
      "  65536 bytes written to data/O.data\n",
      "  65536 bytes written to data/O.data\n",
      "  65536 bytes written to data/O.data\n",
      "  65536 bytes written to data/O.data\n",
      "  65536 bytes written to data/O.data\n",
      "  65536 bytes written to data/O.data\n",
      "  65536 bytes written to data/O.data\n",
      "  65536 bytes written to data/O.data\n",
      "  65536 bytes written to data/O.data\n",
      "  65536 bytes written to data/O.data\n",
      "  65536 bytes written to data/O.data\n",
      "  65536 bytes written to data/O.data\n",
      "  65536 bytes written to data/O.data\n",
      "  65536 bytes written to data/O.data\n",
      "  65536 bytes written to data/O.data\n",
      "  65536 bytes written to data/O.data\n",
      "  65536 bytes written to data/O.data\n",
      "  65536 bytes written to data/O.data\n",
      "  65536 bytes written to data/O.data\n",
      "  65536 bytes written to data/O.data\n",
      "  65536 bytes written to data/O.data\n",
      "  65536 bytes written to data/O.data\n",
      "  65536 bytes written to data/O.data\n",
      "  65536 bytes written to data/O.data\n",
      "  65536 bytes written to data/O.data\n",
      "  65536 bytes written to data/O.data\n",
      "  65536 bytes written to data/O.data\n",
      "  65536 bytes written to data/O.data\n",
      "  65536 bytes written to data/O.data\n",
      "  65536 bytes written to data/O.data\n",
      "  65536 bytes written to data/O.data\n",
      "  65536 bytes written to data/O.data\n",
      "  65536 bytes written to data/O.data\n",
      "  65536 bytes written to data/O.data\n",
      "  65536 bytes written to data/O.data\n",
      "  65536 bytes written to data/O.data\n",
      "  65536 bytes written to data/O.data\n",
      "  65536 bytes written to data/O.data\n",
      "  65536 bytes written to data/O.data\n",
      "  65536 bytes written to data/O.data\n",
      "  65536 bytes written to data/O.data\n",
      "  65536 bytes written to data/O.data\n",
      "  65536 bytes written to data/O.data\n",
      "  65536 bytes written to data/O.data\n",
      "  65536 bytes written to data/O.data\n",
      "  65536 bytes written to data/O.data\n",
      "  65536 bytes written to data/O.data\n",
      "  65536 bytes written to data/O.data\n",
      "  65536 bytes written to data/O.data\n",
      "  65536 bytes written to data/O.data\n",
      "  65536 bytes written to data/O.data\n",
      "  65536 bytes written to data/O.data\n",
      "  65536 bytes written to data/O.data\n",
      "  65536 bytes written to data/O.data\n",
      "  65536 bytes written to data/O.data\n",
      "  65536 bytes written to data/O.data\n",
      "  65536 bytes written to data/O.data\n",
      "  65536 bytes written to data/O.data\n",
      "  65536 bytes written to data/O.data\n",
      "  65536 bytes written to data/O.data\n",
      "  65536 bytes written to data/O.data\n",
      "  65536 bytes written to data/O.data\n",
      "  65536 bytes written to data/O.data\n",
      "  65536 bytes written to data/O.data\n",
      "  65536 bytes written to data/O.data\n",
      "  65536 bytes written to data/O.data\n",
      "  65536 bytes written to data/O.data\n",
      "  65536 bytes written to data/O.data\n",
      "  65536 bytes written to data/O.data\n",
      "  65536 bytes written to data/O.data\n",
      "  65536 bytes written to data/O.data\n",
      "  65536 bytes written to data/O.data\n",
      "  65536 bytes written to data/O.data\n",
      "  65536 bytes written to data/O.data\n",
      "  65536 bytes written to data/O.data\n",
      "  65536 bytes written to data/O.data\n",
      "Header written to data/O.header\n",
      "END DOWNLOAD\n",
      "                     Lines parsed: 80101\n",
      "PROCESSED\n"
     ]
    }
   ],
   "source": [
    "#fetch_by_ids('O',[86],NUMIN,NUMAX)\n",
    "fetch('O',1,1,NUMIN,NUMAX)"
   ]
  },
  {
   "cell_type": "code",
   "execution_count": 10,
   "metadata": {
    "collapsed": false
   },
   "outputs": [
    {
     "name": "stdout",
     "output_type": "stream",
     "text": [
      "Help on function fetch in module hapi:\n",
      "\n",
      "fetch(TableName, M, I, numin, numax, ParameterGroups=[], Parameters=[])\n",
      "    INPUT PARAMETERS: \n",
      "        TableName:   local table name to fetch in (required)\n",
      "        M:           HITRAN molecule number       (required)\n",
      "        I:           HITRAN isotopologue number   (required)\n",
      "        numin:       lower wavenumber bound       (required)\n",
      "        numax:       upper wavenumber bound       (required)\n",
      "    OUTPUT PARAMETERS: \n",
      "        none\n",
      "    ---\n",
      "    DESCRIPTION:\n",
      "        Download line-by-line data from HITRANonline server\n",
      "        and save it to local table. The input parameters M and I\n",
      "        are the HITRAN molecule and isotopologue numbers.\n",
      "        This function results in a table containing single \n",
      "        isotopologue specie. To have multiple species in a \n",
      "        single table use fetch_by_ids instead.\n",
      "    ---\n",
      "    EXAMPLE OF USAGE:\n",
      "        fetch('HOH',1,1,4000,4100)\n",
      "    ---\n",
      "\n"
     ]
    }
   ],
   "source": [
    "getHelp(fetch)"
   ]
  },
  {
   "cell_type": "code",
   "execution_count": 13,
   "metadata": {
    "collapsed": true,
    "deletable": true,
    "editable": true
   },
   "outputs": [],
   "source": [
    "x,y=getStickXY('O')"
   ]
  },
  {
   "cell_type": "code",
   "execution_count": 14,
   "metadata": {
    "collapsed": false,
    "deletable": true,
    "editable": true
   },
   "outputs": [
    {
     "data": {
      "text/plain": [
       "[<matplotlib.lines.Line2D at 0x1150fe410>]"
      ]
     },
     "execution_count": 14,
     "metadata": {},
     "output_type": "execute_result"
    },
    {
     "data": {
      "image/png": "[encoded data removed]",
      "text/plain": [
       "<matplotlib.figure.Figure at 0x1115bea10>"
      ]
     },
     "metadata": {},
     "output_type": "display_data"
    }
   ],
   "source": [
    "plt.plot(x,y)"
   ]
  },
  {
   "cell_type": "code",
   "execution_count": 27,
   "metadata": {
    "collapsed": false,
    "deletable": true,
    "editable": true
   },
   "outputs": [],
   "source": [
    "nu1,coef1 = absorptionCoefficient_Voigt(Components=((34,1),),SourceTables='O',OmegaStep=0.0001,Environment={'p': 0.001,'T': 220})"
   ]
  },
  {
   "cell_type": "code",
   "execution_count": 16,
   "metadata": {
    "collapsed": true,
    "deletable": true,
    "editable": true
   },
   "outputs": [],
   "source": [
    "x1,y1=getStickXY('O')"
   ]
  },
  {
   "cell_type": "code",
   "execution_count": 23,
   "metadata": {
    "collapsed": false,
    "deletable": true,
    "editable": true
   },
   "outputs": [
    {
     "name": "stderr",
     "output_type": "stream",
     "text": [
      "hapi.py:10349: UserWarning: To get the most up-to-date version please check http://hitran.org/hapi\n",
      "  warn('To get the most up-to-date version please check http://hitran.org/hapi')\n"
     ]
    }
   ],
   "source": [
    "nu2,coef2 = absorptionCoefficient_HT(Components=((34,1),),SourceTables='O',OmegaStep=0.0001,Environment={'p': 0.001,'T': 220})"
   ]
  },
  {
   "cell_type": "code",
   "execution_count": 18,
   "metadata": {
    "collapsed": true,
    "deletable": true,
    "editable": true
   },
   "outputs": [],
   "source": [
    "x2,y2=getStickXY('O')"
   ]
  },
  {
   "cell_type": "code",
   "execution_count": 25,
   "metadata": {
    "collapsed": false,
    "deletable": true,
    "editable": true
   },
   "outputs": [
    {
     "data": {
      "text/plain": [
       "[<matplotlib.lines.Line2D at 0x1133c2ed0>]"
      ]
     },
     "execution_count": 25,
     "metadata": {},
     "output_type": "execute_result"
    },
    {
     "data": {
      "image/png": "[encoded data removed]",
      "text/plain": [
       "<matplotlib.figure.Figure at 0x1133c20d0>"
      ]
     },
     "metadata": {},
     "output_type": "display_data"
    }
   ],
   "source": [
    "plt.plot(nu1,coef1,'b-')\n",
    "plt.plot(nu2,coef2,'r-')"
   ]
  },
  {
   "cell_type": "code",
   "execution_count": 17,
   "metadata": {
    "collapsed": false,
    "deletable": true,
    "editable": true
   },
   "outputs": [],
   "source": [
    "#plt.plot(x1,y1,'b-')\n",
    "#plt.plot(x2,y2,'r-')"
   ]
  },
  {
   "cell_type": "code",
   "execution_count": 26,
   "metadata": {
    "collapsed": false,
    "deletable": true,
    "editable": true
   },
   "outputs": [
    {
     "data": {
      "text/plain": [
       "(400.0, 700.0)"
      ]
     },
     "execution_count": 26,
     "metadata": {},
     "output_type": "execute_result"
    },
    {
     "data": {
      "image/png": "[encoded data removed]",
      "text/plain": [
       "<matplotlib.figure.Figure at 0x116212350>"
      ]
     },
     "metadata": {},
     "output_type": "display_data"
    }
   ],
   "source": [
    "plt.plot(1e7/nu1,coef1,'b-')\n",
    "plt.plot(1e7/nu2,coef2,'r-')\n",
    "plt.xlim(400.,700.)"
   ]
  },
  {
   "cell_type": "code",
   "execution_count": 18,
   "metadata": {
    "collapsed": false,
    "deletable": true,
    "editable": true
   },
   "outputs": [],
   "source": [
    "#plt.plot(1e7/x1,y1,'b-')\n",
    "#plt.plot(1e7/x2,y2,'r-')\n",
    "#plt.xlim(600.,800.)"
   ]
  },
  {
   "cell_type": "code",
   "execution_count": null,
   "metadata": {
    "collapsed": true,
    "deletable": true,
    "editable": true
   },
   "outputs": [],
   "source": []
  }
 ],
 "metadata": {
  "anaconda-cloud": {},
  "kernelspec": {
   "display_name": "Python [conda env:pyastrophys]",
   "language": "python",
   "name": "conda-env-pyastrophys-py"
  },
  "language_info": {
   "codemirror_mode": {
    "name": "ipython",
    "version": 2
   },
   "file_extension": ".py",
   "mimetype": "text/x-python",
   "name": "python",
   "nbconvert_exporter": "python",
   "pygments_lexer": "ipython2",
   "version": "2.7.12"
  },
  "toc": {
   "colors": {
    "hover_highlight": "#DAA520",
    "running_highlight": "#FF0000",
    "selected_highlight": "#FFD700"
   },
   "moveMenuLeft": true,
   "nav_menu": {
    "height": "47px",
    "width": "252px"
   },
   "navigate_menu": true,
   "number_sections": true,
   "sideBar": true,
   "threshold": 4,
   "toc_cell": false,
   "toc_section_display": "block",
   "toc_window_display": false,
   "widenNotebook": false
  }
 },
 "nbformat": 4,
 "nbformat_minor": 2
}
