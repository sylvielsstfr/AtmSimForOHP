{
 "cells": [
  {
   "cell_type": "code",
   "execution_count": 1,
   "metadata": {
    "collapsed": true
   },
   "outputs": [],
   "source": [
    "import os\n",
    "from astroquery.hitran import read_hitran_file, cache_location, download_hitran"
   ]
  },
  {
   "cell_type": "code",
   "execution_count": null,
   "metadata": {
    "collapsed": true
   },
   "outputs": [],
   "source": [
    "# 29164.0-40798.0"
   ]
  },
  {
   "cell_type": "code",
   "execution_count": 2,
   "metadata": {
    "collapsed": false
   },
   "outputs": [
    {
     "ename": "Exception",
     "evalue": "Query failed: 404 Client Error: Not Found for url: http://hitran.org/lbl/api?numin=29164&numax=40798&iso_ids_list=16\n",
     "output_type": "error",
     "traceback": [
      "\u001b[0;31m---------------------------------------------------------------------------\u001b[0m",
      "\u001b[0;31mException\u001b[0m                                 Traceback (most recent call last)",
      "\u001b[0;32m<ipython-input-2-223c34c0770f>\u001b[0m in \u001b[0;36m<module>\u001b[0;34m()\u001b[0m\n\u001b[0;32m----> 1\u001b[0;31m \u001b[0mdownload_hitran\u001b[0m\u001b[0;34m(\u001b[0m\u001b[0;36m3\u001b[0m\u001b[0;34m,\u001b[0m \u001b[0;36m1\u001b[0m\u001b[0;34m,\u001b[0m \u001b[0;36m29164\u001b[0m\u001b[0;34m,\u001b[0m \u001b[0;36m40798\u001b[0m\u001b[0;34m)\u001b[0m\u001b[0;34m\u001b[0m\u001b[0m\n\u001b[0m\u001b[1;32m      2\u001b[0m \u001b[0mtbl\u001b[0m \u001b[0;34m=\u001b[0m \u001b[0mread_hitran_file\u001b[0m\u001b[0;34m(\u001b[0m\u001b[0mos\u001b[0m\u001b[0;34m.\u001b[0m\u001b[0mpath\u001b[0m\u001b[0;34m.\u001b[0m\u001b[0mjoin\u001b[0m\u001b[0;34m(\u001b[0m\u001b[0mcache_location\u001b[0m\u001b[0;34m,\u001b[0m \u001b[0;34m'O3Vis.data'\u001b[0m\u001b[0;34m)\u001b[0m\u001b[0;34m)\u001b[0m\u001b[0;34m\u001b[0m\u001b[0m\n",
      "\u001b[0;32m/Users/dagoret-campagnesylvie/anaconda/envs/pyastrophys/lib/python2.7/site-packages/astroquery/hitran/reader.pyc\u001b[0m in \u001b[0;36mdownload_hitran\u001b[0;34m(m, i, numin, numax)\u001b[0m\n\u001b[1;32m    283\u001b[0m     \u001b[0;32mwith\u001b[0m \u001b[0mopen\u001b[0m\u001b[0;34m(\u001b[0m\u001b[0mfilename\u001b[0m\u001b[0;34m,\u001b[0m \u001b[0;34m'w'\u001b[0m\u001b[0;34m)\u001b[0m \u001b[0;32mas\u001b[0m \u001b[0mfp\u001b[0m\u001b[0;34m:\u001b[0m\u001b[0;34m\u001b[0m\u001b[0m\n\u001b[1;32m    284\u001b[0m         response = commons.send_request(HITRAN_URL, data, 10,\n\u001b[0;32m--> 285\u001b[0;31m                                         request_type='GET')\n\u001b[0m\u001b[1;32m    286\u001b[0m         \u001b[0;32mif\u001b[0m \u001b[0;34m'Content-Length'\u001b[0m \u001b[0;32min\u001b[0m \u001b[0mresponse\u001b[0m\u001b[0;34m.\u001b[0m\u001b[0mheaders\u001b[0m\u001b[0;34m:\u001b[0m\u001b[0;34m\u001b[0m\u001b[0m\n\u001b[1;32m    287\u001b[0m             \u001b[0mtotal_length\u001b[0m \u001b[0;34m=\u001b[0m \u001b[0mresponse\u001b[0m\u001b[0;34m.\u001b[0m\u001b[0mheaders\u001b[0m\u001b[0;34m.\u001b[0m\u001b[0mget\u001b[0m\u001b[0;34m(\u001b[0m\u001b[0;34m'Content-Length'\u001b[0m\u001b[0;34m)\u001b[0m\u001b[0;34m\u001b[0m\u001b[0m\n",
      "\u001b[0;32m/Users/dagoret-campagnesylvie/anaconda/envs/pyastrophys/lib/python2.7/site-packages/astroquery/utils/commons.pyc\u001b[0m in \u001b[0;36msend_request\u001b[0;34m(url, data, timeout, request_type, headers, **kwargs)\u001b[0m\n\u001b[1;32m    105\u001b[0m                            format(time=timeout))\n\u001b[1;32m    106\u001b[0m     \u001b[0;32mexcept\u001b[0m \u001b[0mrequests\u001b[0m\u001b[0;34m.\u001b[0m\u001b[0mexceptions\u001b[0m\u001b[0;34m.\u001b[0m\u001b[0mRequestException\u001b[0m \u001b[0;32mas\u001b[0m \u001b[0mex\u001b[0m\u001b[0;34m:\u001b[0m\u001b[0;34m\u001b[0m\u001b[0m\n\u001b[0;32m--> 107\u001b[0;31m         \u001b[0;32mraise\u001b[0m \u001b[0mException\u001b[0m\u001b[0;34m(\u001b[0m\u001b[0;34m\"Query failed: {0}\\n\"\u001b[0m\u001b[0;34m.\u001b[0m\u001b[0mformat\u001b[0m\u001b[0;34m(\u001b[0m\u001b[0mex\u001b[0m\u001b[0;34m)\u001b[0m\u001b[0;34m)\u001b[0m\u001b[0;34m\u001b[0m\u001b[0m\n\u001b[0m\u001b[1;32m    108\u001b[0m \u001b[0;34m\u001b[0m\u001b[0m\n\u001b[1;32m    109\u001b[0m \u001b[0;34m\u001b[0m\u001b[0m\n",
      "\u001b[0;31mException\u001b[0m: Query failed: 404 Client Error: Not Found for url: http://hitran.org/lbl/api?numin=29164&numax=40798&iso_ids_list=16\n"
     ]
    }
   ],
   "source": [
    "download_hitran(3, 1, 29164, 40798)\n",
    "tbl = read_hitran_file(os.path.join(cache_location, 'O3Vis.data'))"
   ]
  },
  {
   "cell_type": "code",
   "execution_count": 3,
   "metadata": {
    "collapsed": true
   },
   "outputs": [],
   "source": [
    "download_hitran(1, 1, 3400, 4100)\n",
    "tbl = read_hitran_file(os.path.join(cache_location, 'H2O.data'))"
   ]
  },
  {
   "cell_type": "code",
   "execution_count": 4,
   "metadata": {
    "collapsed": false
   },
   "outputs": [
    {
     "data": {
      "text/html": [
       "&lt;Table length=7524&gt;\n",
       "<table id=\"table4492116368\" class=\"table-striped table-bordered table-condensed\">\n",
       "<thead><tr><th>molec_id</th><th>local_iso_id</th><th>nu</th><th>sw</th><th>a</th><th>gamma_air</th><th>gamma_self</th><th>elower</th><th>n_air</th><th>delta_air</th><th>global_upper_quanta</th><th>global_lower_quanta</th><th>local_upper_quanta</th><th>local_lower_quanta</th><th>ierr1</th><th>ierr2</th><th>ierr3</th><th>ierr4</th><th>ierr5</th><th>ierr6</th><th>iref1</th><th>iref2</th><th>iref3</th><th>iref4</th><th>iref5</th><th>iref6</th><th>line_mixing_flag</th><th>gp</th><th>gpp</th></tr></thead>\n",
       "<thead><tr><th>int32</th><th>int32</th><th>float32</th><th>float32</th><th>float32</th><th>float32</th><th>float32</th><th>float32</th><th>float32</th><th>float32</th><th>str15</th><th>str15</th><th>str15</th><th>str15</th><th>int32</th><th>int32</th><th>int32</th><th>int32</th><th>int32</th><th>int32</th><th>int32</th><th>int32</th><th>int32</th><th>int32</th><th>int32</th><th>int32</th><th>str1</th><th>float32</th><th>float32</th></tr></thead>\n",
       "<tr><td>1</td><td>1</td><td>3400.01</td><td>1.113e-23</td><td>0.1543</td><td>0.0345</td><td>0.248</td><td>1080.39</td><td>0.51</td><td>-0.00819</td><td>0 2 0</td><td>0 0 0</td><td>10  1  9</td><td>9  2  8</td><td>5</td><td>5</td><td>8</td><td>5</td><td>4</td><td>4</td><td>30</td><td>18</td><td>24</td><td>50</td><td>22</td><td>6</td><td></td><td>21.0</td><td>19.0</td></tr>\n",
       "<tr><td>1</td><td>1</td><td>3400.34</td><td>6.202e-28</td><td>0.0002093</td><td>0.0676</td><td>0.281</td><td>1998.99</td><td>0.39</td><td>-0.01567</td><td>1 0 0</td><td>0 0 0</td><td>12  2 11</td><td>11  5  6</td><td>4</td><td>4</td><td>4</td><td>2</td><td>3</td><td>3</td><td>44</td><td>32</td><td>29</td><td>71</td><td>22</td><td>8</td><td></td><td>75.0</td><td>69.0</td></tr>\n",
       "<tr><td>1</td><td>1</td><td>3400.4</td><td>4.33e-27</td><td>0.003088</td><td>0.0988</td><td>0.456</td><td>1664.96</td><td>0.71</td><td>0.002776</td><td>0 3 0</td><td>0 1 0</td><td>3  3  1</td><td>2  0  2</td><td>4</td><td>4</td><td>4</td><td>2</td><td>3</td><td>3</td><td>44</td><td>32</td><td>30</td><td>71</td><td>22</td><td>10</td><td></td><td>7.0</td><td>5.0</td></tr>\n",
       "<tr><td>1</td><td>1</td><td>3400.41</td><td>1.295e-24</td><td>28.2</td><td>0.0353</td><td>0.23</td><td>2613.1</td><td>0.39</td><td>-0.0091</td><td>0 0 1</td><td>0 0 0</td><td>11  7  4</td><td>12  7  5</td><td>4</td><td>5</td><td>7</td><td>5</td><td>4</td><td>4</td><td>30</td><td>18</td><td>24</td><td>50</td><td>22</td><td>6</td><td></td><td>23.0</td><td>25.0</td></tr>\n",
       "<tr><td>1</td><td>1</td><td>3400.45</td><td>2.04e-27</td><td>0.01604</td><td>0.0684</td><td>0.391</td><td>2251.7</td><td>0.67</td><td>-0.00799</td><td>0 1 1</td><td>0 1 0</td><td>5  0  5</td><td>5  4  2</td><td>4</td><td>4</td><td>4</td><td>2</td><td>3</td><td>3</td><td>44</td><td>32</td><td>30</td><td>71</td><td>22</td><td>10</td><td></td><td>11.0</td><td>11.0</td></tr>\n",
       "<tr><td>1</td><td>1</td><td>3400.55</td><td>6.697e-26</td><td>0.006505</td><td>0.0472</td><td>0.333</td><td>1411.64</td><td>0.57</td><td>-0.014248</td><td>0 2 0</td><td>0 0 0</td><td>7  7  1</td><td>8  6  2</td><td>5</td><td>5</td><td>4</td><td>2</td><td>4</td><td>3</td><td>30</td><td>18</td><td>28</td><td>71</td><td>22</td><td>8</td><td></td><td>15.0</td><td>17.0</td></tr>\n",
       "<tr><td>1</td><td>1</td><td>3400.57</td><td>4.478e-24</td><td>32.46</td><td>0.0311</td><td>0.265</td><td>2612.8</td><td>0.39</td><td>-0.01482</td><td>0 0 1</td><td>0 0 0</td><td>11  7  5</td><td>12  7  6</td><td>5</td><td>5</td><td>4</td><td>2</td><td>4</td><td>3</td><td>30</td><td>18</td><td>29</td><td>71</td><td>22</td><td>9</td><td></td><td>69.0</td><td>75.0</td></tr>\n",
       "<tr><td>1</td><td>1</td><td>3400.58</td><td>2.005e-25</td><td>0.00649</td><td>0.0464</td><td>0.333</td><td>1411.61</td><td>0.57</td><td>-0.012818</td><td>0 2 0</td><td>0 0 0</td><td>7  7  0</td><td>8  6  3</td><td>5</td><td>5</td><td>4</td><td>2</td><td>4</td><td>3</td><td>30</td><td>18</td><td>28</td><td>71</td><td>22</td><td>8</td><td></td><td>45.0</td><td>51.0</td></tr>\n",
       "<tr><td>1</td><td>1</td><td>3400.65</td><td>1.767e-25</td><td>1.178</td><td>0.0375</td><td>0.265</td><td>2612.8</td><td>0.39</td><td>-0.01432</td><td>0 0 1</td><td>0 0 0</td><td>12  5  7</td><td>12  7  6</td><td>5</td><td>5</td><td>4</td><td>2</td><td>4</td><td>3</td><td>30</td><td>18</td><td>31</td><td>71</td><td>22</td><td>11</td><td></td><td>75.0</td><td>75.0</td></tr>\n",
       "<tr><td>1</td><td>1</td><td>3400.65</td><td>3.248e-23</td><td>3.912</td><td>0.0319</td><td>0.239</td><td>1525.14</td><td>0.48</td><td>-0.01273</td><td>1 0 0</td><td>0 0 0</td><td>10  1  9</td><td>11  2 10</td><td>5</td><td>5</td><td>6</td><td>5</td><td>4</td><td>4</td><td>30</td><td>18</td><td>24</td><td>50</td><td>22</td><td>6</td><td></td><td>21.0</td><td>23.0</td></tr>\n",
       "<tr><td>...</td><td>...</td><td>...</td><td>...</td><td>...</td><td>...</td><td>...</td><td>...</td><td>...</td><td>...</td><td>...</td><td>...</td><td>...</td><td>...</td><td>...</td><td>...</td><td>...</td><td>...</td><td>...</td><td>...</td><td>...</td><td>...</td><td>...</td><td>...</td><td>...</td><td>...</td><td>...</td><td>...</td><td>...</td></tr>\n",
       "<tr><td>1</td><td>1</td><td>4098.22</td><td>8.835e-25</td><td>3.319</td><td>0.0345</td><td>0.247</td><td>2433.8</td><td>0.24</td><td>-0.0117</td><td>1 0 0</td><td>0 0 0</td><td>13  7  6</td><td>12  6  7</td><td>4</td><td>5</td><td>5</td><td>5</td><td>4</td><td>3</td><td>30</td><td>18</td><td>24</td><td>50</td><td>22</td><td>6</td><td></td><td>81.0</td><td>75.0</td></tr>\n",
       "<tr><td>1</td><td>1</td><td>4098.44</td><td>1.804e-27</td><td>0.01153</td><td>0.0224</td><td>0.221</td><td>2358.3</td><td>0.38</td><td>-0.004184</td><td>0 2 0</td><td>0 0 0</td><td>16  2 14</td><td>15  1 15</td><td>3</td><td>4</td><td>4</td><td>2</td><td>3</td><td>3</td><td>44</td><td>32</td><td>29</td><td>71</td><td>5</td><td>9</td><td></td><td>33.0</td><td>31.0</td></tr>\n",
       "<tr><td>1</td><td>1</td><td>4099.04</td><td>1.573e-28</td><td>0.0002383</td><td>0.0476</td><td>0.25</td><td>2246.88</td><td>0.24</td><td>0.005536</td><td>0 2 0</td><td>0 0 0</td><td>13  7  6</td><td>13  2 11</td><td>3</td><td>4</td><td>4</td><td>2</td><td>3</td><td>3</td><td>44</td><td>32</td><td>29</td><td>71</td><td>22</td><td>8</td><td></td><td>81.0</td><td>81.0</td></tr>\n",
       "<tr><td>1</td><td>1</td><td>4099.55</td><td>1.842e-28</td><td>23.22</td><td>0.0241</td><td>0.183</td><td>4427.16</td><td>0.41</td><td>0.00072</td><td>0 0 1</td><td>0 0 0</td><td>19  4 15</td><td>18  4 14</td><td>3</td><td>4</td><td>4</td><td>2</td><td>3</td><td>3</td><td>44</td><td>32</td><td>31</td><td>71</td><td>5</td><td>11</td><td></td><td>39.0</td><td>37.0</td></tr>\n",
       "<tr><td>1</td><td>1</td><td>4099.6</td><td>7.266e-28</td><td>0.07971</td><td>0.0306</td><td>0.25</td><td>3127.86</td><td>0.24</td><td>-0.01336</td><td>0 0 1</td><td>0 0 0</td><td>13 10  4</td><td>13  8  5</td><td>3</td><td>4</td><td>4</td><td>2</td><td>3</td><td>3</td><td>44</td><td>32</td><td>31</td><td>71</td><td>22</td><td>11</td><td></td><td>81.0</td><td>81.0</td></tr>\n",
       "<tr><td>1</td><td>1</td><td>4099.66</td><td>2.424e-28</td><td>0.07977</td><td>0.0288</td><td>0.25</td><td>3127.8</td><td>0.24</td><td>-0.01403</td><td>0 0 1</td><td>0 0 0</td><td>13 10  3</td><td>13  8  6</td><td>3</td><td>4</td><td>4</td><td>2</td><td>3</td><td>3</td><td>44</td><td>32</td><td>31</td><td>71</td><td>22</td><td>11</td><td></td><td>27.0</td><td>27.0</td></tr>\n",
       "<tr><td>1</td><td>1</td><td>4099.71</td><td>5.269e-27</td><td>0.01123</td><td>0.0221</td><td>0.221</td><td>2358.3</td><td>0.38</td><td>-0.003484</td><td>0 2 0</td><td>0 0 0</td><td>16  3 14</td><td>15  0 15</td><td>3</td><td>4</td><td>4</td><td>2</td><td>3</td><td>3</td><td>44</td><td>32</td><td>29</td><td>71</td><td>5</td><td>9</td><td></td><td>99.0</td><td>93.0</td></tr>\n",
       "<tr><td>1</td><td>1</td><td>4099.81</td><td>3.268e-26</td><td>0.1094</td><td>0.0694</td><td>0.333</td><td>2337.67</td><td>0.56</td><td>-0.00908</td><td>1 1 0</td><td>0 1 0</td><td>9  2  7</td><td>8  1  8</td><td>4</td><td>5</td><td>4</td><td>2</td><td>4</td><td>3</td><td>30</td><td>18</td><td>25</td><td>71</td><td>22</td><td>7</td><td></td><td>57.0</td><td>51.0</td></tr>\n",
       "<tr><td>1</td><td>1</td><td>4099.96</td><td>2.045e-27</td><td>0.003998</td><td>0.0832</td><td>0.391</td><td>1922.83</td><td>0.62</td><td>-9e-05</td><td>1 1 0</td><td>0 1 0</td><td>6  4  2</td><td>5  1  5</td><td>4</td><td>4</td><td>4</td><td>2</td><td>3</td><td>3</td><td>44</td><td>32</td><td>28</td><td>71</td><td>22</td><td>8</td><td></td><td>13.0</td><td>11.0</td></tr>\n",
       "<tr><td>1</td><td>1</td><td>4099.99</td><td>7.92e-28</td><td>7.422</td><td>0.0575</td><td>0.208</td><td>3870.2</td><td>0.41</td><td>-0.02388</td><td>1 0 0</td><td>0 0 0</td><td>17  7 11</td><td>16  6 10</td><td>3</td><td>4</td><td>4</td><td>2</td><td>3</td><td>3</td><td>44</td><td>32</td><td>31</td><td>71</td><td>5</td><td>11</td><td></td><td>35.0</td><td>33.0</td></tr>\n",
       "</table>"
      ],
      "text/plain": [
       "<Table length=7524>\n",
       "molec_id local_iso_id    nu       sw    ... line_mixing_flag    gp     gpp  \n",
       " int32      int32     float32  float32  ...       str1       float32 float32\n",
       "-------- ------------ ------- --------- ... ---------------- ------- -------\n",
       "       1            1 3400.01 1.113e-23 ...                     21.0    19.0\n",
       "       1            1 3400.34 6.202e-28 ...                     75.0    69.0\n",
       "       1            1  3400.4  4.33e-27 ...                      7.0     5.0\n",
       "       1            1 3400.41 1.295e-24 ...                     23.0    25.0\n",
       "       1            1 3400.45  2.04e-27 ...                     11.0    11.0\n",
       "       1            1 3400.55 6.697e-26 ...                     15.0    17.0\n",
       "       1            1 3400.57 4.478e-24 ...                     69.0    75.0\n",
       "       1            1 3400.58 2.005e-25 ...                     45.0    51.0\n",
       "       1            1 3400.65 1.767e-25 ...                     75.0    75.0\n",
       "       1            1 3400.65 3.248e-23 ...                     21.0    23.0\n",
       "     ...          ...     ...       ... ...              ...     ...     ...\n",
       "       1            1 4098.22 8.835e-25 ...                     81.0    75.0\n",
       "       1            1 4098.44 1.804e-27 ...                     33.0    31.0\n",
       "       1            1 4099.04 1.573e-28 ...                     81.0    81.0\n",
       "       1            1 4099.55 1.842e-28 ...                     39.0    37.0\n",
       "       1            1  4099.6 7.266e-28 ...                     81.0    81.0\n",
       "       1            1 4099.66 2.424e-28 ...                     27.0    27.0\n",
       "       1            1 4099.71 5.269e-27 ...                     99.0    93.0\n",
       "       1            1 4099.81 3.268e-26 ...                     57.0    51.0\n",
       "       1            1 4099.96 2.045e-27 ...                     13.0    11.0\n",
       "       1            1 4099.99  7.92e-28 ...                     35.0    33.0"
      ]
     },
     "execution_count": 4,
     "metadata": {},
     "output_type": "execute_result"
    }
   ],
   "source": [
    "tbl"
   ]
  },
  {
   "cell_type": "code",
   "execution_count": null,
   "metadata": {
    "collapsed": true
   },
   "outputs": [],
   "source": []
  }
 ],
 "metadata": {
  "anaconda-cloud": {},
  "kernelspec": {
   "display_name": "Python [conda env:pyastrophys]",
   "language": "python",
   "name": "conda-env-pyastrophys-py"
  },
  "language_info": {
   "codemirror_mode": {
    "name": "ipython",
    "version": 2
   },
   "file_extension": ".py",
   "mimetype": "text/x-python",
   "name": "python",
   "nbconvert_exporter": "python",
   "pygments_lexer": "ipython2",
   "version": "2.7.12"
  },
  "toc": {
   "colors": {
    "hover_highlight": "#DAA520",
    "running_highlight": "#FF0000",
    "selected_highlight": "#FFD700"
   },
   "moveMenuLeft": true,
   "nav_menu": {
    "height": "12px",
    "width": "252px"
   },
   "navigate_menu": true,
   "number_sections": true,
   "sideBar": true,
   "threshold": 4,
   "toc_cell": false,
   "toc_section_display": "block",
   "toc_window_display": false,
   "widenNotebook": false
  }
 },
 "nbformat": 4,
 "nbformat_minor": 2
}
