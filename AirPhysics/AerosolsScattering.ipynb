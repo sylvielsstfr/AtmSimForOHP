{
 "cells": [
  {
   "cell_type": "markdown",
   "metadata": {
    "deletable": true,
    "editable": true,
    "slideshow": {
     "slide_type": "slide"
    }
   },
   "source": [
    "# Aerosols scattering\n",
    "==============================================================\n",
    "\n",
    "\n",
    "- author : Sylvie Dagoret-Campagne\n",
    "- date : May  18th 2017"
   ]
  },
  {
   "cell_type": "code",
   "execution_count": 11,
   "metadata": {
    "collapsed": false,
    "deletable": true,
    "editable": true,
    "slideshow": {
     "slide_type": "skip"
    }
   },
   "outputs": [],
   "source": [
    "import numpy as np\n",
    "import pandas as pd\n",
    "\n",
    "# Set up matplotlib and use a nicer set of plot parameters\n",
    "#%config InlineBackend.rc = {}\n",
    "import matplotlib\n",
    "#matplotlib.rc_file(\"templates/matplotlibrc\")\n",
    "import matplotlib.pyplot as plt\n",
    "\n",
    "%matplotlib inline\n",
    "\n",
    "#import matplotlib as mpl"
   ]
  },
  {
   "cell_type": "code",
   "execution_count": 12,
   "metadata": {
    "collapsed": true,
    "deletable": true,
    "editable": true,
    "slideshow": {
     "slide_type": "skip"
    }
   },
   "outputs": [],
   "source": [
    "from astropy.constants import N_A,R,g0\n",
    "from astropy import units as u"
   ]
  },
  {
   "cell_type": "code",
   "execution_count": 13,
   "metadata": {
    "collapsed": true,
    "deletable": true,
    "editable": true,
    "slideshow": {
     "slide_type": "skip"
    }
   },
   "outputs": [],
   "source": [
    "# to enlarge the sizes\n",
    "params = {'legend.fontsize': 'x-large',\n",
    "          'figure.figsize': (8, 6),\n",
    "         'axes.labelsize': 'x-large',\n",
    "         'axes.titlesize':'x-large',\n",
    "         'xtick.labelsize':'x-large',\n",
    "         'ytick.labelsize':'x-large'}\n",
    "plt.rcParams.update(params)"
   ]
  },
  {
   "cell_type": "markdown",
   "metadata": {
    "deletable": true,
    "editable": true,
    "slideshow": {
     "slide_type": "skip"
    }
   },
   "source": [
    "# Initialisation"
   ]
  },
  {
   "cell_type": "markdown",
   "metadata": {
    "deletable": true,
    "editable": true,
    "slideshow": {
     "slide_type": "skip"
    }
   },
   "source": [
    "## Constants"
   ]
  },
  {
   "cell_type": "code",
   "execution_count": 14,
   "metadata": {
    "collapsed": true,
    "deletable": true,
    "editable": true,
    "slideshow": {
     "slide_type": "skip"
    }
   },
   "outputs": [],
   "source": [
    "M_air= 28.965338*u.g/u.mol\n",
    "M_air_dry=28.9644*u.g/u.mol\n",
    "M_h2o=18.016*u.g/u.mol"
   ]
  },
  {
   "cell_type": "code",
   "execution_count": 15,
   "metadata": {
    "collapsed": false,
    "deletable": true,
    "editable": true,
    "slideshow": {
     "slide_type": "skip"
    }
   },
   "outputs": [],
   "source": [
    "P0=101325.*u.Pa;   # /*!< Pa : pressure at see level */\n",
    "T0=288.15*u.K;   #/*!< sea level temperature */  \n",
    "L=0.0065*u.K/u.m  # refroidissement en fonction de l'altitude"
   ]
  },
  {
   "cell_type": "markdown",
   "metadata": {
    "deletable": true,
    "editable": true,
    "slideshow": {
     "slide_type": "slide"
    }
   },
   "source": [
    "## Functions"
   ]
  },
  {
   "cell_type": "markdown",
   "metadata": {
    "deletable": true,
    "editable": true
   },
   "source": [
    "### Attenuation at different altitudes"
   ]
  },
  {
   "cell_type": "markdown",
   "metadata": {
    "deletable": true,
    "editable": true
   },
   "source": [
    "\\begin{eqnarray}\n",
    "\\beta_a(h_2,\\lambda) & = & \\beta_a(h_1,\\lambda) \\exp\\left( \\frac{-(h_2-h_1)}{H_p}\\right)  \n",
    "\\end{eqnarray}\n",
    "\n",
    "$0.95 km < H_P < 1.5 km$\n",
    "\n",
    "\\begin{eqnarray}\n",
    "\\beta_a(h,\\lambda) & = & \\frac{\\tau_{VAOD}}{H_p\\cdot \\left[ 1 - \\exp \\left( -\\frac{h_2-h_1}{H_P}\\right)\\right]} \\approx \\frac{\\tau_{VAOD}}{H_p}\n",
    "\\end{eqnarray}\n",
    "\n",
    "\n",
    "\n",
    "\\begin{eqnarray}\n",
    "\\tau_{HAOD}(h,\\lambda) & = & \\beta(h,\\lambda)\\cdot L = \\frac{L}{H_P} \\tau_{VAOD}\n",
    "\\end{eqnarray}"
   ]
  },
  {
   "cell_type": "code",
   "execution_count": 16,
   "metadata": {
    "collapsed": true,
    "deletable": true,
    "editable": true,
    "slideshow": {
     "slide_type": "subslide"
    }
   },
   "outputs": [],
   "source": [
    "def Pressure_adiab(altitude):\n",
    "    \"\"\"\n",
    "    Pressure( double altitude)\n",
    "    Provide the pressure at the altitude.\n",
    "    Attention, ici on considère de l'air sec.\n",
    "    \n",
    "    - Input : altitude : input altitude in meters\n",
    "    - Output :pressure  : output pressure in Pa SI \n",
    "    \"\"\"\n",
    "    h=altitude\n",
    "    P=P0*np.exp(-((g0*M_air_dry)/(R*T0))*h)\n",
    "    return P  "
   ]
  },
  {
   "cell_type": "markdown",
   "metadata": {
    "deletable": true,
    "editable": true,
    "slideshow": {
     "slide_type": "slide"
    }
   },
   "source": [
    "### Pressure other definition"
   ]
  },
  {
   "cell_type": "markdown",
   "metadata": {
    "deletable": true,
    "editable": true
   },
   "source": [
    "- $p_0 = $ sea level standard atmospheric pressure, 101.325 kPa\n",
    "- $T_0 = $ sea level standard temperature, 288.15 K\n",
    "- $g = $  earth-surface gravitational acceleration, 9.80665 m/s2\n",
    "- $ L = $ temperature lapse rate, 0.0065 K/m (troposphere)\n",
    "- $ R = $  ideal (universal) gas constant, 8.31447 J/(mol·K)\n",
    "- $ M = $ molar mass of dry air, 0.0289644 kg/mol\n",
    "\n",
    "Temperature at altitude $h$ meters above sea level is approximated by the following formula (only valid inside the troposphere):\n",
    "\n",
    "$$\n",
    "T = T_0 - L h \n",
    "$$\n",
    "\n",
    "The pressure at altitude  $h$ is given by:\n",
    "$$\n",
    "   p = p_0 \\left(1 - \\frac{L h}{T_0} \\right)^\\frac{g M}{R L}\n",
    "$$\n",
    "\n",
    "Density can then be calculated according to a molar form of the ideal gas law:\n",
    "$$\n",
    "    \\rho = \\frac{p M}{R T}  \n",
    "$$\n",
    "\n",
    "where:\n",
    "\n",
    "- $ M  = $ molar mass\n",
    "- $ R  = $ ideal gas constant\n",
    "- $ T  = $ absolute temperature\n",
    "- $ p  = $ absolute pressure "
   ]
  },
  {
   "cell_type": "code",
   "execution_count": 17,
   "metadata": {
    "collapsed": true,
    "deletable": true,
    "editable": true,
    "slideshow": {
     "slide_type": "subslide"
    }
   },
   "outputs": [],
   "source": [
    "def Pressure(h):\n",
    "    P=P0*np.exp(g0*M_air_dry/R/L*np.log(1-L*h/T0))\n",
    "    return P"
   ]
  },
  {
   "cell_type": "code",
   "execution_count": 18,
   "metadata": {
    "collapsed": true,
    "deletable": true,
    "editable": true
   },
   "outputs": [],
   "source": [
    "alt=np.linspace(0,20,100)*u.km\n",
    "pres_adiab=Pressure_adiab(alt)\n",
    "pres=Pressure(alt)"
   ]
  },
  {
   "cell_type": "markdown",
   "metadata": {
    "deletable": true,
    "editable": true,
    "slideshow": {
     "slide_type": "slide"
    }
   },
   "source": [
    "###  the atmospheric column depth $X$:\n",
    "\\begin{equation}\n",
    "X(h,\\theta)= P(h)/\\cos \\theta\n",
    "\\end{equation}\n"
   ]
  },
  {
   "cell_type": "code",
   "execution_count": 19,
   "metadata": {
    "collapsed": true,
    "deletable": true,
    "editable": true
   },
   "outputs": [],
   "source": [
    "def XDepth(altitude,costh=1):\n",
    "    \"\"\"\n",
    "    Function : XDepth(altitude,costh)\n",
    "      Provide the column depth in gr / cm^2 equivalent of airmass in physical units\n",
    "    - Input :  altitude : input altitude in meters\n",
    "    - Input :  costh    : input cosimus of zenith angle \n",
    "    - Output :  XDepth  : output column depth in gr per cm squared\n",
    "    \"\"\"\n",
    "    h=altitude\n",
    "    XD=Pressure(h)/g0/costh\n",
    "    return XD"
   ]
  },
  {
   "cell_type": "markdown",
   "metadata": {
    "deletable": true,
    "editable": true,
    "slideshow": {
     "slide_type": "slide"
    }
   },
   "source": [
    "## Aerosols models"
   ]
  },
  {
   "cell_type": "markdown",
   "metadata": {
    "deletable": true,
    "editable": true
   },
   "source": [
    "La profondeur optique des aérosols $\\tau_{AOD}$ peut être paramétrisée au plus simple par la formule:\n",
    "\n",
    "$$\n",
    "\\tau_{AOD}  =  \\tau_{aer}(\\lambda_0) \\left(\\frac{\\lambda_0}{\\lambda}\\right)^\\alpha \n",
    "$$"
   ]
  },
  {
   "cell_type": "code",
   "execution_count": 30,
   "metadata": {
    "collapsed": false,
    "deletable": true,
    "editable": true
   },
   "outputs": [],
   "source": [
    "def VAeroOptDepth(wavelength,tau_aerosols_550=0.10,alpha_ang=1.22) :\n",
    "    \"\"\"\n",
    "    VAeroOptDepth(wavelength, alpha)\n",
    "\n",
    "    Provide Vertical Aerosols optical depth\n",
    "    - Input : wavelength : input wavelength in nm\n",
    "    - Input : alpha : Angstrom exponent\n",
    "    - Output : OptDepth  : output optical depth no unit for aerosols\n",
    "    \n",
    "    \"\"\"\n",
    "\n",
    "    OD=tau_aerosols_550*np.exp(-alpha_ang*np.log(wavelength/(550*u.nm)))\n",
    "    return OD"
   ]
  },
  {
   "cell_type": "code",
   "execution_count": 31,
   "metadata": {
    "collapsed": true
   },
   "outputs": [],
   "source": [
    "wavelength=np.linspace(200.,1100.,100)*u.nm"
   ]
  },
  {
   "cell_type": "code",
   "execution_count": 36,
   "metadata": {
    "collapsed": false,
    "deletable": true,
    "editable": true,
    "slideshow": {
     "slide_type": "slide"
    }
   },
   "outputs": [],
   "source": [
    "VAOD=VAeroOptDepth(wavelength)"
   ]
  },
  {
   "cell_type": "code",
   "execution_count": 32,
   "metadata": {
    "collapsed": false,
    "deletable": true,
    "editable": true
   },
   "outputs": [
    {
     "data": {
      "text/plain": [
       "<matplotlib.legend.Legend at 0x1070f15d0>"
      ]
     },
     "execution_count": 32,
     "metadata": {},
     "output_type": "execute_result"
    },
    {
     "data": {
      "image/png": "[encoded data removed]",
      "text/plain": [
       "<matplotlib.figure.Figure at 0x107477f50>"
      ]
     },
     "metadata": {},
     "output_type": "display_data"
    }
   ],
   "source": []
  },
  {
   "cell_type": "markdown",
   "metadata": {},
   "source": [
    "### VAOD\n",
    "for quantiles 5% 10% 50% 90% 95%"
   ]
  },
  {
   "cell_type": "code",
   "execution_count": 35,
   "metadata": {
    "collapsed": true
   },
   "outputs": [],
   "source": [
    "VAOD_quantiles=np.array([0.03,0.0455,0.09,0.244,0.322]) # MERRA2"
   ]
  },
  {
   "cell_type": "markdown",
   "metadata": {},
   "source": [
    "## Horizontal Aerosol Optical Depth"
   ]
  },
  {
   "cell_type": "code",
   "execution_count": 62,
   "metadata": {
    "collapsed": true
   },
   "outputs": [],
   "source": [
    "def HAeroOptDepth(wavelength,L,HP,tau_aerosols_550=0.10,alpha_ang=1.22) :\n",
    "    \"\"\"\n",
    "    VAeroOptDepth(wavelength, alpha)\n",
    "\n",
    "    Provide Vertical Aerosols optical depth\n",
    "    - Input : wavelength : input wavelength in nm\n",
    "    - Input : alpha : Angstrom exponent\n",
    "    - Output : OptDepth  : output optical depth no unit for aerosols\n",
    "    \n",
    "    \"\"\"\n",
    "    \n",
    "    \n",
    "    VAOD=(L/HP)*VAeroOptDepth(wavelength,tau_aerosols_550,alpha_ang)\n",
    "    \n",
    "    \n",
    "    return VAOD"
   ]
  },
  {
   "cell_type": "code",
   "execution_count": 59,
   "metadata": {
    "collapsed": false
   },
   "outputs": [],
   "source": [
    "HAOD=HAeroOptDepth(wavelength,L=200.*u.m)"
   ]
  },
  {
   "cell_type": "code",
   "execution_count": 61,
   "metadata": {
    "collapsed": false
   },
   "outputs": [
    {
     "data": {
      "text/latex": [
       "$0.2 \\; \\mathrm{}$"
      ],
      "text/plain": [
       "<Quantity 0.2>"
      ]
     },
     "execution_count": 61,
     "metadata": {},
     "output_type": "execute_result"
    }
   ],
   "source": [
    "(200*u.m/(1*u.km)).decompose()"
   ]
  },
  {
   "cell_type": "code",
   "execution_count": 60,
   "metadata": {
    "collapsed": false
   },
   "outputs": [
    {
     "name": "stdout",
     "output_type": "stream",
     "text": [
      "[ 68.70935665  65.08240495  61.78938005  58.78746621  56.04076669\n",
      "  53.51897171  51.19632113  49.05078875  47.06343503  45.2178893\n",
      "  43.49993211  41.89715622  40.3986892   38.99496534  37.67753672\n",
      "  36.43891604  35.27244499  34.17218369  33.13281712  32.14957584\n",
      "  31.21816836  30.33472324  29.49573939  28.69804326  27.93875171\n",
      "  27.21523984  26.52511303  25.86618236  25.23644329  24.63405677\n",
      "  24.05733266  23.50471512  22.97476965  22.46617159  21.9776959\n",
      "  21.50820805  21.05665592  20.62206249  20.20351932  19.80018071\n",
      "  19.41125843  19.03601693  18.6737691   18.32387235  17.98572511\n",
      "  17.65876363  17.34245911  17.03631502  16.73986472  16.45266926\n",
      "  16.17431538  15.90441368  15.64259693  15.38851852  15.14185107\n",
      "  14.90228511  14.6695279   14.44330231  14.22334579  14.00940949\n",
      "  13.80125731  13.59866515  13.40142017  13.20932007  13.02217245\n",
      "  12.83979425  12.66201118  12.48865719  12.31957402  12.15461072\n",
      "  11.99362328  11.83647419  11.68303214  11.53317161  11.38677262\n",
      "  11.24372039  11.10390507  10.96722151  10.83356898  10.70285093\n",
      "  10.57497485  10.44985198  10.32739716  10.20752866  10.090168\n",
      "   9.97523978   9.86267157   9.7523937    9.64433921   9.53844366\n",
      "   9.43464503   9.33288365   9.23310202   9.13524475   9.03925849\n",
      "   8.94509179   8.85269504   8.7620204    8.67302169   8.58565436] m / km\n"
     ]
    }
   ],
   "source": [
    "print HAOD"
   ]
  },
  {
   "cell_type": "code",
   "execution_count": 53,
   "metadata": {
    "collapsed": false
   },
   "outputs": [
    {
     "data": {
      "text/plain": [
       "<matplotlib.legend.Legend at 0x107b2a590>"
      ]
     },
     "execution_count": 53,
     "metadata": {},
     "output_type": "execute_result"
    },
    {
     "data": {
      "image/png": "[encoded data removed]",
      "text/plain": [
       "<matplotlib.figure.Figure at 0x107697990>"
      ]
     },
     "metadata": {},
     "output_type": "display_data"
    }
   ],
   "source": [
    "plt.plot(wavelength,np.exp(-VAOD),'b-',label='VAOD')\n",
    "plt.plot(wavelength,np.exp(-HAOD.decompose()),'r-',label='VAOD')\n",
    "plt.title('Model for Aerosols Scattering')\n",
    "plt.xlabel('Wavelength (nm)')\n",
    "plt.ylabel('Aerosols Air transmittance')\n",
    "plt.legend()"
   ]
  },
  {
   "cell_type": "code",
   "execution_count": null,
   "metadata": {
    "collapsed": true
   },
   "outputs": [],
   "source": []
  }
 ],
 "metadata": {
  "anaconda-cloud": {},
  "kernelspec": {
   "display_name": "Python [conda env:pyastrophys]",
   "language": "python",
   "name": "conda-env-pyastrophys-py"
  },
  "language_info": {
   "codemirror_mode": {
    "name": "ipython",
    "version": 2
   },
   "file_extension": ".py",
   "mimetype": "text/x-python",
   "name": "python",
   "nbconvert_exporter": "python",
   "pygments_lexer": "ipython2",
   "version": "2.7.12"
  },
  "toc": {
   "colors": {
    "hover_highlight": "#DAA520",
    "running_highlight": "#FF0000",
    "selected_highlight": "#FFD700"
   },
   "moveMenuLeft": true,
   "nav_menu": {
    "height": "47px",
    "width": "252px"
   },
   "navigate_menu": true,
   "number_sections": true,
   "sideBar": true,
   "threshold": 4,
   "toc_cell": false,
   "toc_section_display": "block",
   "toc_window_display": false,
   "widenNotebook": false
  }
 },
 "nbformat": 4,
 "nbformat_minor": 2
}
