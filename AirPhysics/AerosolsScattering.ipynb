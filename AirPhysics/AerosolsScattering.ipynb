{
 "cells": [
  {
   "cell_type": "markdown",
   "metadata": {
    "deletable": true,
    "editable": true,
    "slideshow": {
     "slide_type": "slide"
    }
   },
   "source": [
    "# Aerosols scattering\n",
    "==============================================================\n",
    "\n",
    "\n",
    "- author : Sylvie Dagoret-Campagne\n",
    "- date : May  18th 2017"
   ]
  },
  {
   "cell_type": "code",
   "execution_count": 24,
   "metadata": {
    "collapsed": false,
    "deletable": true,
    "editable": true,
    "slideshow": {
     "slide_type": "skip"
    }
   },
   "outputs": [],
   "source": [
    "import numpy as np\n",
    "import pandas as pd\n",
    "\n",
    "# Set up matplotlib and use a nicer set of plot parameters\n",
    "#%config InlineBackend.rc = {}\n",
    "import matplotlib\n",
    "#matplotlib.rc_file(\"templates/matplotlibrc\")\n",
    "import matplotlib.pyplot as plt\n",
    "\n",
    "%matplotlib inline\n",
    "\n",
    "#import matplotlib as mpl"
   ]
  },
  {
   "cell_type": "code",
   "execution_count": 25,
   "metadata": {
    "collapsed": true,
    "deletable": true,
    "editable": true,
    "slideshow": {
     "slide_type": "skip"
    }
   },
   "outputs": [],
   "source": [
    "from astropy import units as u"
   ]
  },
  {
   "cell_type": "code",
   "execution_count": 26,
   "metadata": {
    "collapsed": true,
    "deletable": true,
    "editable": true,
    "slideshow": {
     "slide_type": "skip"
    }
   },
   "outputs": [],
   "source": [
    "# to enlarge the sizes\n",
    "params = {'legend.fontsize': 'x-large',\n",
    "          'figure.figsize': (8, 6),\n",
    "         'axes.labelsize': 'x-large',\n",
    "         'axes.titlesize':'x-large',\n",
    "         'xtick.labelsize':'x-large',\n",
    "         'ytick.labelsize':'x-large'}\n",
    "plt.rcParams.update(params)"
   ]
  },
  {
   "cell_type": "markdown",
   "metadata": {
    "deletable": true,
    "editable": true,
    "slideshow": {
     "slide_type": "skip"
    }
   },
   "source": [
    "# Initialisation"
   ]
  },
  {
   "cell_type": "markdown",
   "metadata": {
    "deletable": true,
    "editable": true,
    "slideshow": {
     "slide_type": "slide"
    }
   },
   "source": [
    "## Functions"
   ]
  },
  {
   "cell_type": "markdown",
   "metadata": {
    "deletable": true,
    "editable": true
   },
   "source": [
    "### Attenuation at different altitudes"
   ]
  },
  {
   "cell_type": "markdown",
   "metadata": {
    "deletable": true,
    "editable": true
   },
   "source": [
    "\\begin{eqnarray}\n",
    "\\beta_a(h_2,\\lambda) & = & \\beta_a(h_1,\\lambda) \\exp\\left( \\frac{-(h_2-h_1)}{H_p}\\right)  \n",
    "\\end{eqnarray}\n",
    "\n",
    "$0.95 km < H_P < 1.5 km$\n",
    "\n",
    "\\begin{eqnarray}\n",
    "\\beta_a(h,\\lambda) & = & \\frac{\\tau_{VAOD}}{H_p\\cdot \\left[ 1 - \\exp \\left( -\\frac{h_2-h_1}{H_P}\\right)\\right]} \\approx \\frac{\\tau_{VAOD}}{H_p}\n",
    "\\end{eqnarray}\n",
    "\n",
    "\n",
    "\n",
    "\\begin{eqnarray}\n",
    "\\tau_{HAOD}(h,\\lambda) & = & \\beta(h,\\lambda)\\cdot L = \\frac{L}{H_P} \\tau_{VAOD}\n",
    "\\end{eqnarray}"
   ]
  },
  {
   "cell_type": "markdown",
   "metadata": {
    "deletable": true,
    "editable": true,
    "slideshow": {
     "slide_type": "slide"
    }
   },
   "source": [
    "## Aerosols models"
   ]
  },
  {
   "cell_type": "markdown",
   "metadata": {
    "deletable": true,
    "editable": true
   },
   "source": [
    "La profondeur optique des aérosols $\\tau_{AOD}$ peut être paramétrisée au plus simple par la formule:\n",
    "\n",
    "$$\n",
    "\\tau_{AOD}  =  \\tau_{aer}(\\lambda_0) \\left(\\frac{\\lambda_0}{\\lambda}\\right)^\\alpha \n",
    "$$"
   ]
  },
  {
   "cell_type": "code",
   "execution_count": 33,
   "metadata": {
    "collapsed": false,
    "deletable": true,
    "editable": true
   },
   "outputs": [],
   "source": [
    "def VAeroOptDepth(wavelength,tau_aerosols_550=0.10,alpha_ang=1.22) :\n",
    "    \"\"\"\n",
    "    VAeroOptDepth(wavelength, alpha)\n",
    "\n",
    "    Provide Vertical Aerosols optical depth\n",
    "    - Input : wavelength : input wavelength in nm\n",
    "    - Input : alpha : Angstrom exponent\n",
    "    - Output : OptDepth  : output optical depth no unit for aerosols\n",
    "    \n",
    "    \"\"\"\n",
    "\n",
    "    OD=tau_aerosols_550*np.exp(-alpha_ang*np.log(wavelength/(550*u.nm)))\n",
    "    return OD"
   ]
  },
  {
   "cell_type": "code",
   "execution_count": 34,
   "metadata": {
    "collapsed": true,
    "deletable": true,
    "editable": true
   },
   "outputs": [],
   "source": [
    "wavelength=np.linspace(200.,1100.,100)*u.nm"
   ]
  },
  {
   "cell_type": "code",
   "execution_count": 35,
   "metadata": {
    "collapsed": false,
    "deletable": true,
    "editable": true,
    "slideshow": {
     "slide_type": "slide"
    }
   },
   "outputs": [],
   "source": [
    "VAOD=VAeroOptDepth(wavelength)"
   ]
  },
  {
   "cell_type": "markdown",
   "metadata": {
    "deletable": true,
    "editable": true
   },
   "source": [
    "### VAOD\n",
    "for quantiles 5% 10% 50% 90% 95%"
   ]
  },
  {
   "cell_type": "code",
   "execution_count": 36,
   "metadata": {
    "collapsed": true,
    "deletable": true,
    "editable": true
   },
   "outputs": [],
   "source": [
    "VAOD_quantiles=np.array([0.03,0.0455,0.09,0.244,0.322]) # MERRA2"
   ]
  },
  {
   "cell_type": "markdown",
   "metadata": {
    "deletable": true,
    "editable": true
   },
   "source": [
    "## Horizontal Aerosol Optical Depth"
   ]
  },
  {
   "cell_type": "code",
   "execution_count": 37,
   "metadata": {
    "collapsed": true,
    "deletable": true,
    "editable": true
   },
   "outputs": [],
   "source": [
    "def HAeroOptDepth(wavelength,L,HP,tau_aerosols_550=0.10,alpha_ang=1.22) :\n",
    "    \"\"\"\n",
    "    VAeroOptDepth(wavelength, alpha)\n",
    "\n",
    "    Provide Vertical Aerosols optical depth\n",
    "    - Input : wavelength : input wavelength in nm\n",
    "    - Input : alpha : Angstrom exponent\n",
    "    - Output : OptDepth  : output optical depth no unit for aerosols\n",
    "    \n",
    "    \"\"\"    \n",
    "    \n",
    "    VAOD=((L/HP).decompose())*VAeroOptDepth(wavelength,tau_aerosols_550,alpha_ang)\n",
    "        \n",
    "    return VAOD"
   ]
  },
  {
   "cell_type": "code",
   "execution_count": 38,
   "metadata": {
    "collapsed": false,
    "deletable": true,
    "editable": true
   },
   "outputs": [],
   "source": [
    "HAOD=HAeroOptDepth(wavelength,L=200.*u.m,HP=1.*u.km)"
   ]
  },
  {
   "cell_type": "code",
   "execution_count": 49,
   "metadata": {
    "collapsed": false,
    "deletable": true,
    "editable": true
   },
   "outputs": [
    {
     "data": {
      "text/plain": [
       "<matplotlib.legend.Legend at 0x113c9d590>"
      ]
     },
     "execution_count": 49,
     "metadata": {},
     "output_type": "execute_result"
    },
    {
     "data": {
      "image/png": "[encoded data removed]",
      "text/plain": [
       "<matplotlib.figure.Figure at 0x113e4a4d0>"
      ]
     },
     "metadata": {},
     "output_type": "display_data"
    }
   ],
   "source": [
    "plt.plot(wavelength,np.exp(-VAOD),'b-',label='VAOD')\n",
    "plt.plot(wavelength,np.exp(-HAOD.decompose()),'r-',label='VAOD')\n",
    "plt.title('Model for Aerosols Scattering')\n",
    "plt.xlabel('Wavelength (nm)')\n",
    "plt.ylabel('Aerosols Air transmittance')\n",
    "plt.grid(True)\n",
    "plt.legend()"
   ]
  },
  {
   "cell_type": "code",
   "execution_count": 44,
   "metadata": {
    "collapsed": true,
    "deletable": true,
    "editable": true
   },
   "outputs": [],
   "source": [
    "N_VAOD=VAOD_quantiles.shape[0]"
   ]
  },
  {
   "cell_type": "code",
   "execution_count": 54,
   "metadata": {
    "collapsed": false
   },
   "outputs": [
    {
     "data": {
      "image/png": "[encoded data removed]",
      "text/plain": [
       "<matplotlib.figure.Figure at 0x11435d750>"
      ]
     },
     "metadata": {},
     "output_type": "display_data"
    }
   ],
   "source": [
    "for i in np.arange(0,N_VAOD):\n",
    "    HAOD=HAeroOptDepth(wavelength,L=200.*u.m,HP=1.0*u.km,tau_aerosols_550=VAOD_quantiles[i])\n",
    "    plt.plot(wavelength,np.exp(-HAOD.decompose()))\n",
    "plt.title('Model for Aerosols Scattering for $H_p$=1 km')\n",
    "plt.xlabel('Wavelength (nm)')\n",
    "plt.ylabel('Aerosols Air transmittance')\n",
    "plt.ylim(0,1.1)\n",
    "plt.grid(True)\n",
    "plt.legend()\n",
    "    "
   ]
  },
  {
   "cell_type": "code",
   "execution_count": null,
   "metadata": {
    "collapsed": true
   },
   "outputs": [],
   "source": []
  }
 ],
 "metadata": {
  "anaconda-cloud": {},
  "kernelspec": {
   "display_name": "Python [conda env:pyastrophys]",
   "language": "python",
   "name": "conda-env-pyastrophys-py"
  },
  "language_info": {
   "codemirror_mode": {
    "name": "ipython",
    "version": 2
   },
   "file_extension": ".py",
   "mimetype": "text/x-python",
   "name": "python",
   "nbconvert_exporter": "python",
   "pygments_lexer": "ipython2",
   "version": "2.7.12"
  },
  "toc": {
   "colors": {
    "hover_highlight": "#DAA520",
    "running_highlight": "#FF0000",
    "selected_highlight": "#FFD700"
   },
   "moveMenuLeft": true,
   "nav_menu": {
    "height": "47px",
    "width": "252px"
   },
   "navigate_menu": true,
   "number_sections": true,
   "sideBar": true,
   "threshold": 4,
   "toc_cell": false,
   "toc_section_display": "block",
   "toc_window_display": false,
   "widenNotebook": false
  }
 },
 "nbformat": 4,
 "nbformat_minor": 2
}
