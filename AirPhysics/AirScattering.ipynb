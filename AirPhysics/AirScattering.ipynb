{
 "cells": [
  {
   "cell_type": "markdown",
   "metadata": {
    "deletable": true,
    "editable": true,
    "slideshow": {
     "slide_type": "slide"
    }
   },
   "source": [
    "# Air scattering\n",
    "==============================================================\n",
    "\n",
    "\n",
    "- author : Sylvie Dagoret-Campagne\n",
    "- date :May  2nd 2017"
   ]
  },
  {
   "cell_type": "code",
   "execution_count": 2,
   "metadata": {
    "collapsed": false,
    "deletable": true,
    "editable": true,
    "slideshow": {
     "slide_type": "skip"
    }
   },
   "outputs": [],
   "source": [
    "import numpy as np\n",
    "import pandas as pd\n",
    "\n",
    "# Set up matplotlib and use a nicer set of plot parameters\n",
    "#%config InlineBackend.rc = {}\n",
    "import matplotlib\n",
    "#matplotlib.rc_file(\"templates/matplotlibrc\")\n",
    "import matplotlib.pyplot as plt\n",
    "\n",
    "%matplotlib inline\n",
    "\n",
    "#import matplotlib as mpl"
   ]
  },
  {
   "cell_type": "code",
   "execution_count": 3,
   "metadata": {
    "collapsed": true,
    "deletable": true,
    "editable": true,
    "slideshow": {
     "slide_type": "skip"
    }
   },
   "outputs": [],
   "source": [
    "from astropy.constants import N_A,R,g0\n",
    "from astropy import units as u"
   ]
  },
  {
   "cell_type": "code",
   "execution_count": 4,
   "metadata": {
    "collapsed": true,
    "deletable": true,
    "editable": true,
    "slideshow": {
     "slide_type": "skip"
    }
   },
   "outputs": [],
   "source": [
    "# to enlarge the sizes\n",
    "params = {'legend.fontsize': 'x-large',\n",
    "          'figure.figsize': (8, 6),\n",
    "         'axes.labelsize': 'x-large',\n",
    "         'axes.titlesize':'x-large',\n",
    "         'xtick.labelsize':'x-large',\n",
    "         'ytick.labelsize':'x-large'}\n",
    "plt.rcParams.update(params)"
   ]
  },
  {
   "cell_type": "markdown",
   "metadata": {
    "deletable": true,
    "editable": true,
    "slideshow": {
     "slide_type": "skip"
    }
   },
   "source": [
    "# Initialisation"
   ]
  },
  {
   "cell_type": "markdown",
   "metadata": {
    "deletable": true,
    "editable": true,
    "slideshow": {
     "slide_type": "skip"
    }
   },
   "source": [
    "## Constants"
   ]
  },
  {
   "cell_type": "code",
   "execution_count": 5,
   "metadata": {
    "collapsed": true,
    "deletable": true,
    "editable": true,
    "slideshow": {
     "slide_type": "skip"
    }
   },
   "outputs": [],
   "source": [
    "M_air= 28.965338*u.g/u.mol\n",
    "M_air_dry=28.9644*u.g/u.mol\n",
    "M_h2o=18.016*u.g/u.mol"
   ]
  },
  {
   "cell_type": "code",
   "execution_count": 6,
   "metadata": {
    "collapsed": false,
    "deletable": true,
    "editable": true,
    "slideshow": {
     "slide_type": "skip"
    }
   },
   "outputs": [],
   "source": [
    "P0=101325.*u.Pa;   # /*!< Pa : pressure at see level */\n",
    "T0=288.15*u.K;   #/*!< sea level temperature */  \n",
    "L=0.0065*u.K/u.m  # refroidissement en fonction de l'altitude"
   ]
  },
  {
   "cell_type": "markdown",
   "metadata": {
    "deletable": true,
    "editable": true,
    "slideshow": {
     "slide_type": "slide"
    }
   },
   "source": [
    "## Functions"
   ]
  },
  {
   "cell_type": "markdown",
   "metadata": {
    "deletable": true,
    "editable": true
   },
   "source": [
    "### Adiabatic definition"
   ]
  },
  {
   "cell_type": "markdown",
   "metadata": {
    "deletable": true,
    "editable": true
   },
   "source": [
    "Si $T(h)=T_0$ était constant par rapport à l'altitude, alors\n",
    "\n",
    "\\begin{eqnarray}\n",
    "\\frac{dP(h)}{dz} & = & - \\rho(h) \\cdot g \\\\\n",
    "\\rho(h) & = & \\frac{M}{RT_0}\\cdot P(h)\n",
    "\\end{eqnarray}\n",
    "\n",
    "Alors la dépendance de la pression avec l'altitude devient:\n",
    "\\begin{equation}\n",
    "P(h)=P_0 \\exp(- \\frac{gM}{RT_0}h)\n",
    "\\end{equation}\n",
    "\n",
    "où $P_0= $101325 Pa, $T_0=$288.15 K,  au niveau de la mer (on peut prendre un autre niveau de référence comme celui de l'altitude.\n",
    "\n",
    "( $g=$9.80665~m/s$^2$, $M=$0.0289644 kg/mol molar mass of dry air, $R=$8.31447~J/(mol.K) : universal gas constant). "
   ]
  },
  {
   "cell_type": "code",
   "execution_count": 7,
   "metadata": {
    "collapsed": true,
    "deletable": true,
    "editable": true,
    "slideshow": {
     "slide_type": "subslide"
    }
   },
   "outputs": [],
   "source": [
    "def Pressure_adiab(altitude):\n",
    "    \"\"\"\n",
    "    Pressure( double altitude)\n",
    "    Provide the pressure at the altitude.\n",
    "    Attention, ici on considère de l'air sec.\n",
    "    \n",
    "    - Input : altitude : input altitude in meters\n",
    "    - Output :pressure  : output pressure in Pa SI \n",
    "    \"\"\"\n",
    "    h=altitude\n",
    "    P=P0*np.exp(-((g0*M_air_dry)/(R*T0))*h)\n",
    "    return P  "
   ]
  },
  {
   "cell_type": "markdown",
   "metadata": {
    "deletable": true,
    "editable": true,
    "slideshow": {
     "slide_type": "slide"
    }
   },
   "source": [
    "### Pressure other definition"
   ]
  },
  {
   "cell_type": "markdown",
   "metadata": {
    "deletable": true,
    "editable": true
   },
   "source": [
    "- $p_0 = $ sea level standard atmospheric pressure, 101.325 kPa\n",
    "- $T_0 = $ sea level standard temperature, 288.15 K\n",
    "- $g = $  earth-surface gravitational acceleration, 9.80665 m/s2\n",
    "- $ L = $ temperature lapse rate, 0.0065 K/m (troposphere)\n",
    "- $ R = $  ideal (universal) gas constant, 8.31447 J/(mol·K)\n",
    "- $ M = $ molar mass of dry air, 0.0289644 kg/mol\n",
    "\n",
    "Temperature at altitude $h$ meters above sea level is approximated by the following formula (only valid inside the troposphere):\n",
    "\n",
    "$$\n",
    "T = T_0 - L h \n",
    "$$\n",
    "\n",
    "The pressure at altitude  $h$ is given by:\n",
    "$$\n",
    "   p = p_0 \\left(1 - \\frac{L h}{T_0} \\right)^\\frac{g M}{R L}\n",
    "$$\n",
    "\n",
    "Density can then be calculated according to a molar form of the ideal gas law:\n",
    "$$\n",
    "    \\rho = \\frac{p M}{R T}  \n",
    "$$\n",
    "\n",
    "where:\n",
    "\n",
    "- $ M  = $ molar mass\n",
    "- $ R  = $ ideal gas constant\n",
    "- $ T  = $ absolute temperature\n",
    "- $ p  = $ absolute pressure "
   ]
  },
  {
   "cell_type": "code",
   "execution_count": 8,
   "metadata": {
    "collapsed": true,
    "deletable": true,
    "editable": true,
    "slideshow": {
     "slide_type": "subslide"
    }
   },
   "outputs": [],
   "source": [
    "def Pressure(h):\n",
    "    P=P0*np.exp(g0*M_air_dry/R/L*np.log(1-L*h/T0))\n",
    "    return P"
   ]
  },
  {
   "cell_type": "code",
   "execution_count": 9,
   "metadata": {
    "collapsed": true,
    "deletable": true,
    "editable": true
   },
   "outputs": [],
   "source": [
    "alt=np.linspace(0,20,100)*u.km\n",
    "pres_adiab=Pressure_adiab(alt)\n",
    "pres=Pressure(alt)"
   ]
  },
  {
   "cell_type": "code",
   "execution_count": 10,
   "metadata": {
    "collapsed": false,
    "deletable": true,
    "editable": true
   },
   "outputs": [
    {
     "data": {
      "text/plain": [
       "<matplotlib.legend.Legend at 0x106322cd0>"
      ]
     },
     "execution_count": 10,
     "metadata": {},
     "output_type": "execute_result"
    },
    {
     "data": {
      "image/png": "[encoded data removed]",
      "text/plain": [
       "<matplotlib.figure.Figure at 0x10626aa90>"
      ]
     },
     "metadata": {},
     "output_type": "display_data"
    }
   ],
   "source": [
    "plt.plot(pres_adiab/P0,alt,'b-',label='adiabatic')\n",
    "plt.plot(pres/P0,alt,'r-',label='non adiabatic')\n",
    "plt.title('Thermodynamic model of Altitude versus Pressure')\n",
    "plt.xlabel('Pressure (atm)')\n",
    "plt.ylabel('Altitude (km)')\n",
    "plt.legend()"
   ]
  },
  {
   "cell_type": "markdown",
   "metadata": {
    "deletable": true,
    "editable": true
   },
   "source": [
    "### Altitude versus pressure et tempetature versus h\n",
    "\n",
    "$$\n",
    "\\begin{eqnarray}\n",
    " h & = & \\frac{T_0}{L} \\left(\\left( \\frac{P}{P_0}\\right)^{\\frac{RL}{gM}} -1  \\right) \\\\\n",
    " T & = & T_0\\left(2- \\left( \\frac{P}{P_0} \\right)^{\\frac{RL}{gM}} \\right) \\\\\n",
    " \\rho & = & \\frac{P(h)M}{RT(h)}\n",
    "\\end{eqnarray} \n",
    "$$"
   ]
  },
  {
   "cell_type": "markdown",
   "metadata": {
    "deletable": true,
    "editable": true,
    "slideshow": {
     "slide_type": "slide"
    }
   },
   "source": [
    "###  the atmospheric column depth $X$:\n",
    "\\begin{equation}\n",
    "X(h,\\theta)= P(h)/\\cos \\theta\n",
    "\\end{equation}\n"
   ]
  },
  {
   "cell_type": "code",
   "execution_count": 11,
   "metadata": {
    "collapsed": true,
    "deletable": true,
    "editable": true
   },
   "outputs": [],
   "source": [
    "def XDepth(altitude,costh=1):\n",
    "    \"\"\"\n",
    "    Function : XDepth(altitude,costh)\n",
    "      Provide the column depth in gr / cm^2 equivalent of airmass in physical units\n",
    "    - Input :  altitude : input altitude in meters\n",
    "    - Input :  costh    : input cosimus of zenith angle \n",
    "    - Output :  XDepth  : output column depth in gr per cm squared\n",
    "    \"\"\"\n",
    "    h=altitude\n",
    "    XD=Pressure(h)/g0/costh\n",
    "    return XD"
   ]
  },
  {
   "cell_type": "code",
   "execution_count": 12,
   "metadata": {
    "collapsed": true,
    "deletable": true,
    "editable": true
   },
   "outputs": [],
   "source": [
    "def XDepth_adiab(altitude,costh=1):\n",
    "    \"\"\"\n",
    "    Function : XDepth(altitude,costh)\n",
    "      Provide the column depth in gr / cm^2 equivalent of airmass in physical units\n",
    "    - Input :  altitude : input altitude in meters\n",
    "    - Input :  costh    : input cosimus of zenith angle \n",
    "    - Output :  XDepth  : output column depth in gr per cm squared\n",
    "    \"\"\"\n",
    "    h=altitude\n",
    "    XD=Pressure_adiab(h)/g0/costh\n",
    "    return XD"
   ]
  },
  {
   "cell_type": "code",
   "execution_count": 13,
   "metadata": {
    "collapsed": true,
    "deletable": true,
    "editable": true,
    "slideshow": {
     "slide_type": "slide"
    }
   },
   "outputs": [],
   "source": [
    "XD_adiab=XDepth_adiab(alt)\n",
    "XD=XDepth(alt)"
   ]
  },
  {
   "cell_type": "code",
   "execution_count": 14,
   "metadata": {
    "collapsed": false,
    "deletable": true,
    "editable": true
   },
   "outputs": [
    {
     "data": {
      "text/plain": [
       "<matplotlib.legend.Legend at 0x106559150>"
      ]
     },
     "execution_count": 14,
     "metadata": {},
     "output_type": "execute_result"
    },
    {
     "data": {
      "image/png": "[encoded data removed]",
      "text/plain": [
       "<matplotlib.figure.Figure at 0x1063b3650>"
      ]
     },
     "metadata": {},
     "output_type": "display_data"
    }
   ],
   "source": [
    "plt.plot(XD_adiab,alt,'b-',label='adiabatic')\n",
    "plt.plot(XD,alt,'r-',label='non adiabatic')\n",
    "plt.title('Thermodynamic model of Altitude versus Atmospheric depth')\n",
    "plt.xlabel(' X Depth $(kg/m^2)$')\n",
    "plt.ylabel('Altitude (km)')\n",
    "plt.legend()"
   ]
  },
  {
   "cell_type": "markdown",
   "metadata": {
    "deletable": true,
    "editable": true,
    "slideshow": {
     "slide_type": "slide"
    }
   },
   "source": [
    "## Rayleigh Optical Depth"
   ]
  },
  {
   "cell_type": "markdown",
   "metadata": {
    "deletable": true,
    "editable": true
   },
   "source": [
    "One can compute with a fairly good accuracy (much better than the calibration errors) the optical depth from LOWTRAN7~:\n",
    "\n",
    "$$\n",
    "\\left\\{\n",
    "\\begin{array} {c c c}\n",
    "\\delta_{rayl}& =& \\frac{X(h,\\theta)}{3102 g/cm^2 } \\left( \\frac{400 nm}{\\lambda}\\right)^4  \\frac{1}{ 1-0.0722\\left(\\frac{400nm}{\\lambda}\\right)^2} \\\\\n",
    "\\delta_{rayl}& =& \\frac{X(h,\\theta)}{2770 g/cm^2 } \\left( \\frac{400 nm}{\\lambda}\\right)^4 \n",
    "\\end{array}\n",
    "\\right.\n",
    "$$\n",
    "\n",
    "The air transparency is given by $T=e^{-\\delta_{rayl}}$.\n",
    "\n",
    "It has been checked that Rayleigh attenuation in $LibRadTran$ obeys exactly this attenuation.  "
   ]
  },
  {
   "cell_type": "code",
   "execution_count": 15,
   "metadata": {
    "collapsed": false,
    "deletable": true,
    "editable": true,
    "slideshow": {
     "slide_type": "subslide"
    }
   },
   "outputs": [],
   "source": [
    "def RayOptDepth(wavelength, altitude=0*u.m, costh=1):\n",
    "    \"\"\"\n",
    "    Function RayOptDepth(double wavelength, double altitude, double costh)\n",
    "\n",
    "    Provide Rayleigh optical depth\n",
    "         \n",
    "    - Input  wavelength : input wavelength in nm\n",
    "    - Input  altitude : input altitude in meters\n",
    "    - Input   costh    : input cosimus of zenith angle \n",
    "    - Output  OptDepth  : output optical depth no unit, for Rayleigh\n",
    "    \"\"\"\n",
    "\n",
    "    h=altitude\n",
    "\n",
    "    A=(XDepth(h,costh)/(3102.*u.g/(u.cm*u.cm)))\n",
    "    B=np.exp(-4.*np.log(wavelength/(400.*u.nm)))  \n",
    "    C= 1-0.0722*np.exp(-2*np.log(wavelength/(400.*u.nm)))\n",
    "\n",
    "    OD=A*B/C\n",
    "        \n",
    "    #double OD=XDepth(altitude,costh)/2970.*np.power((wavelength/400.),-4);\n",
    "\n",
    "    return OD"
   ]
  },
  {
   "cell_type": "code",
   "execution_count": 16,
   "metadata": {
    "collapsed": true,
    "deletable": true,
    "editable": true,
    "slideshow": {
     "slide_type": "subslide"
    }
   },
   "outputs": [],
   "source": [
    "def RayOptDepth_adiab(wavelength, altitude=0*u.m, costh=1):\n",
    "    \"\"\"\n",
    "    Function RayOptDepth(double wavelength, double altitude, double costh)\n",
    "\n",
    "    Provide Rayleigh optical depth\n",
    "         \n",
    "    - Input  wavelength : input wavelength in nm\n",
    "    - Input  altitude : input altitude in meters\n",
    "    - Input   costh    : input cosimus of zenith angle \n",
    "    - Output  OptDepth  : output optical depth no unit, for Rayleigh\n",
    "    \"\"\"\n",
    "\n",
    "    h=altitude\n",
    "\n",
    "    A=(XDepth_adiab(h,costh)/(3102.*u.g/(u.cm*u.cm)))\n",
    "    B=np.exp(-4.*np.log(wavelength/(400.*u.nm)))  \n",
    "    C= 1-0.0722*np.exp(-2*np.log(wavelength/(400.*u.nm)))\n",
    "\n",
    "    OD=A*B/C\n",
    "        \n",
    "    #double OD=XDepth(altitude,costh)/2970.*np.power((wavelength/400.),-4);\n",
    "\n",
    "    return OD"
   ]
  },
  {
   "cell_type": "code",
   "execution_count": 17,
   "metadata": {
    "collapsed": true,
    "deletable": true,
    "editable": true,
    "slideshow": {
     "slide_type": "slide"
    }
   },
   "outputs": [],
   "source": [
    "wavelength=np.linspace(200.,1100.,100)*u.nm"
   ]
  },
  {
   "cell_type": "code",
   "execution_count": 18,
   "metadata": {
    "collapsed": false,
    "deletable": true,
    "editable": true
   },
   "outputs": [],
   "source": [
    "od=RayOptDepth(wavelength)\n",
    "od_adiab=RayOptDepth_adiab(wavelength)"
   ]
  },
  {
   "cell_type": "code",
   "execution_count": 19,
   "metadata": {
    "collapsed": false,
    "deletable": true,
    "editable": true
   },
   "outputs": [
    {
     "data": {
      "text/plain": [
       "<matplotlib.legend.Legend at 0x1067e5250>"
      ]
     },
     "execution_count": 19,
     "metadata": {},
     "output_type": "execute_result"
    },
    {
     "data": {
      "image/png": "[encoded data removed]",
      "text/plain": [
       "<matplotlib.figure.Figure at 0x106559f50>"
      ]
     },
     "metadata": {},
     "output_type": "display_data"
    }
   ],
   "source": [
    "plt.plot(wavelength,np.exp(-od),'r-',label='non-adiabatic')\n",
    "plt.plot(wavelength,np.exp(-od_adiab),'k:',label='adiabatic')\n",
    "plt.title('Model for Rayleigh Scattering')\n",
    "plt.xlabel('Wavelength (nm)')\n",
    "plt.ylabel('Air transmittance')\n",
    "plt.legend()"
   ]
  },
  {
   "cell_type": "code",
   "execution_count": 20,
   "metadata": {
    "collapsed": false,
    "deletable": true,
    "editable": true,
    "slideshow": {
     "slide_type": "slide"
    }
   },
   "outputs": [],
   "source": [
    "def RayOptDepth2(wavelength, altitude=0*u.m, costh=1):\n",
    "    \"\"\"\n",
    "    Function RayOptDepth2(wavelength, altitude, costh)\n",
    "\n",
    "    Provide Rayleigh optical depth\n",
    "    - Input wavelength : input wavelength in nm\n",
    "    - Input altitude : input altitude in meters\n",
    "    - Input costh    : input cosimus of zenith angle \n",
    "    - Output OptDepth  : optical depth no unit\n",
    "    \n",
    "    \"\"\"\n",
    "    h=altitude\n",
    "    A=XDepth(h,costh)/(2770.*u.g/(u.cm*u.cm))\n",
    "    B=np.exp(-4*np.log(wavelength/(400.*u.nm)))\n",
    "    OD=A*B         \n",
    "  \n",
    "    return OD"
   ]
  },
  {
   "cell_type": "code",
   "execution_count": 21,
   "metadata": {
    "collapsed": true,
    "deletable": true,
    "editable": true
   },
   "outputs": [],
   "source": [
    "def RayOptDepth2_adiab(wavelength, altitude=0*u.m, costh=1):\n",
    "    \"\"\"\n",
    "    Function RayOptDepth2_adiab(wavelength, altitude, costh)\n",
    "    Provide Rayleigh optical depth\n",
    "    - Input wavelength : input wavelength in nm\n",
    "    - Input altitude : input altitude in meters\n",
    "    - Input costh    : input cosimus of zenith angle \n",
    "    - Output OptDepth  : optical depth no unit\n",
    "    \n",
    "    \"\"\"\n",
    "    h=altitude\n",
    "    A=XDepth_adiab(h,costh)/(2770.*u.g/(u.cm*u.cm))\n",
    "    B=np.exp(-4*np.log(wavelength/(400.*u.nm)))\n",
    "    OD=A*B         \n",
    "  \n",
    "    return OD"
   ]
  },
  {
   "cell_type": "code",
   "execution_count": 22,
   "metadata": {
    "collapsed": false,
    "deletable": true,
    "editable": true,
    "slideshow": {
     "slide_type": "slide"
    }
   },
   "outputs": [],
   "source": [
    "wavelength=np.linspace(200.,1100.,100)*u.nm\n",
    "od=RayOptDepth(wavelength)\n",
    "od_adiab=RayOptDepth_adiab(wavelength)\n",
    "od2=RayOptDepth2(wavelength)"
   ]
  },
  {
   "cell_type": "code",
   "execution_count": 23,
   "metadata": {
    "collapsed": false,
    "deletable": true,
    "editable": true
   },
   "outputs": [
    {
     "data": {
      "text/plain": [
       "<matplotlib.legend.Legend at 0x10694d050>"
      ]
     },
     "execution_count": 23,
     "metadata": {},
     "output_type": "execute_result"
    },
    {
     "data": {
      "image/png": "[encoded data removed]",
      "text/plain": [
       "<matplotlib.figure.Figure at 0x105ddab90>"
      ]
     },
     "metadata": {},
     "output_type": "display_data"
    }
   ],
   "source": [
    "plt.plot(wavelength,np.exp(-od_adiab),'k:')\n",
    "plt.plot(wavelength,np.exp(-od),'r-',label='formula 1')\n",
    "plt.plot(wavelength,np.exp(-od2),'b-',label='formula 2')\n",
    "plt.title('Model for Rayleigh Scattering')\n",
    "plt.xlabel('Wavelength (nm)')\n",
    "plt.ylabel('Air transmittance')\n",
    "plt.legend()"
   ]
  },
  {
   "cell_type": "markdown",
   "metadata": {
    "deletable": true,
    "editable": true,
    "slideshow": {
     "slide_type": "slide"
    }
   },
   "source": [
    "## Aerosols models"
   ]
  },
  {
   "cell_type": "markdown",
   "metadata": {
    "deletable": true,
    "editable": true
   },
   "source": [
    "La profondeur optique des aérosols $\\tau_{AOD}$ peut être paramétrisée au plus simple par la formule:\n",
    "\n",
    "$$\n",
    "\\tau_{AOD}  =  \\tau_{aer}(\\lambda_0) \\left(\\frac{\\lambda_0}{\\lambda}\\right)^\\alpha \n",
    "$$"
   ]
  },
  {
   "cell_type": "code",
   "execution_count": 24,
   "metadata": {
    "collapsed": false,
    "deletable": true,
    "editable": true
   },
   "outputs": [],
   "source": [
    "def AeroOptDepth(wavelength,tau_aerosols_500=0.10,alpha_ang=1) :\n",
    "    \"\"\"\n",
    "    AeroOptDepth(wavelength, alpha)\n",
    "\n",
    "    Provide Aerosols optical depth\n",
    "    - Input : wavelength : input wavelength in nm\n",
    "    - Input : alpha : Angstrom exponent\n",
    "    - Output : OptDepth  : output optical depth no unit for aerosols\n",
    "    \n",
    "    \"\"\"\n",
    "\n",
    "    OD=tau_aerosols_500*np.exp(-alpha_ang*np.log(wavelength/(500*u.nm)))\n",
    "    return OD"
   ]
  },
  {
   "cell_type": "code",
   "execution_count": 25,
   "metadata": {
    "collapsed": true,
    "deletable": true,
    "editable": true,
    "slideshow": {
     "slide_type": "slide"
    }
   },
   "outputs": [],
   "source": [
    "AOD=AeroOptDepth(wavelength)"
   ]
  },
  {
   "cell_type": "code",
   "execution_count": 26,
   "metadata": {
    "collapsed": false,
    "deletable": true,
    "editable": true
   },
   "outputs": [
    {
     "data": {
      "text/plain": [
       "<matplotlib.legend.Legend at 0x106ad85d0>"
      ]
     },
     "execution_count": 26,
     "metadata": {},
     "output_type": "execute_result"
    },
    {
     "data": {
      "image/png": "[encoded data removed]",
      "text/plain": [
       "<matplotlib.figure.Figure at 0x106848550>"
      ]
     },
     "metadata": {},
     "output_type": "display_data"
    }
   ],
   "source": [
    "plt.plot(wavelength,np.exp(-od),'r-',label='Rayleigh')\n",
    "plt.plot(wavelength,np.exp(-AOD),'b-',label='Aerosols')\n",
    "plt.title('Model for Rayleigh and Aerosols Scattering')\n",
    "plt.xlabel('Wavelength (nm)')\n",
    "plt.ylabel('Air transmittance')\n",
    "plt.legend()"
   ]
  }
 ],
 "metadata": {
  "anaconda-cloud": {},
  "kernelspec": {
   "display_name": "Python [conda env:pyastrophys]",
   "language": "python",
   "name": "conda-env-pyastrophys-py"
  },
  "language_info": {
   "codemirror_mode": {
    "name": "ipython",
    "version": 2
   },
   "file_extension": ".py",
   "mimetype": "text/x-python",
   "name": "python",
   "nbconvert_exporter": "python",
   "pygments_lexer": "ipython2",
   "version": "2.7.12"
  },
  "toc": {
   "colors": {
    "hover_highlight": "#DAA520",
    "running_highlight": "#FF0000",
    "selected_highlight": "#FFD700"
   },
   "moveMenuLeft": true,
   "nav_menu": {
    "height": "47px",
    "width": "252px"
   },
   "navigate_menu": true,
   "number_sections": true,
   "sideBar": true,
   "threshold": 4,
   "toc_cell": false,
   "toc_section_display": "block",
   "toc_window_display": false,
   "widenNotebook": false
  }
 },
 "nbformat": 4,
 "nbformat_minor": 2
}
