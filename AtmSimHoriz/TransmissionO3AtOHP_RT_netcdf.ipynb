{
 "cells": [
  {
   "cell_type": "markdown",
   "metadata": {
    "deletable": true,
    "editable": true
   },
   "source": [
    "# Transmission of Air with $O_3$ absorption\n",
    "==============================================================\n",
    "\n",
    "\n",
    "The purpose is to calculate the transmission of air due to $O_3$ component at OHP site.\n",
    "\n",
    "- author : Sylvie Dagoret-Campagne\n",
    "- date :May  2nd 2017\n",
    "- Update May 6th 2017\n",
    "\n",
    "$O_3$ from Hitran and O3 from LibRadtran/CRS"
   ]
  },
  {
   "cell_type": "code",
   "execution_count": 188,
   "metadata": {
    "collapsed": false,
    "deletable": true,
    "editable": true
   },
   "outputs": [],
   "source": [
    "import numpy as np\n",
    "import pandas as pd\n",
    "\n",
    "# Set up matplotlib and use a nicer set of plot parameters\n",
    "#%config InlineBackend.rc = {}\n",
    "import matplotlib\n",
    "#matplotlib.rc_file(\"templates/matplotlibrc\")\n",
    "import matplotlib.pyplot as plt\n",
    "\n",
    "%matplotlib inline\n",
    "\n",
    "#import matplotlib as mpl"
   ]
  },
  {
   "cell_type": "code",
   "execution_count": 189,
   "metadata": {
    "collapsed": true,
    "deletable": true,
    "editable": true
   },
   "outputs": [],
   "source": [
    "# to enlarge the sizes\n",
    "params = {'legend.fontsize': 'x-large',\n",
    "          'figure.figsize': (8, 6),\n",
    "         'axes.labelsize': 'x-large',\n",
    "         'axes.titlesize':'x-large',\n",
    "         'xtick.labelsize':'x-large',\n",
    "         'ytick.labelsize':'x-large'}\n",
    "plt.rcParams.update(params)"
   ]
  },
  {
   "cell_type": "code",
   "execution_count": 190,
   "metadata": {
    "collapsed": true,
    "deletable": true,
    "editable": true
   },
   "outputs": [],
   "source": [
    "import os"
   ]
  },
  {
   "cell_type": "code",
   "execution_count": 191,
   "metadata": {
    "collapsed": true
   },
   "outputs": [],
   "source": [
    "from netCDF4 import Dataset"
   ]
  },
  {
   "cell_type": "code",
   "execution_count": 192,
   "metadata": {
    "collapsed": false,
    "deletable": true,
    "editable": true
   },
   "outputs": [],
   "source": [
    "from spacepy import pycdf\n",
    "import datetime\n",
    "\n",
    "os.environ[\"CDF_LIB\"]='/Users/dagoret-campagnesylvie/MacOsX/External/cdf/cdf/lib'\n",
    "os.environ[\"CDF_LIB\"]='/Users/dagoret-campagnesylvie/MacOsX/External/netcdf/lib'"
   ]
  },
  {
   "cell_type": "markdown",
   "metadata": {
    "deletable": true,
    "editable": true
   },
   "source": [
    "# Initialisation"
   ]
  },
  {
   "cell_type": "markdown",
   "metadata": {
    "deletable": true,
    "editable": true
   },
   "source": [
    "## Constants"
   ]
  },
  {
   "cell_type": "code",
   "execution_count": 193,
   "metadata": {
    "collapsed": true,
    "deletable": true,
    "editable": true
   },
   "outputs": [],
   "source": [
    "Pa_to_Atm = 0.00000986923267\n",
    "hPa_to_Atm=Pa_to_Atm*100  # libRadTran provides pressure in hPa\n",
    "Atm_to_Pa = 1.01325*1e5 \n",
    "Atm_to_hPa = 1.01325*1e3 "
   ]
  },
  {
   "cell_type": "code",
   "execution_count": 194,
   "metadata": {
    "collapsed": false,
    "deletable": true,
    "editable": true
   },
   "outputs": [],
   "source": [
    "m_to_cm=100."
   ]
  },
  {
   "cell_type": "code",
   "execution_count": 195,
   "metadata": {
    "collapsed": true,
    "deletable": true,
    "editable": true
   },
   "outputs": [],
   "source": [
    "path='/Users/dagoret-campagnesylvie/MacOsX/LSST/softs/libRadtran-2.0.1/data/correlated_k/reptran'"
   ]
  },
  {
   "cell_type": "code",
   "execution_count": 196,
   "metadata": {
    "collapsed": false,
    "deletable": true,
    "editable": true
   },
   "outputs": [
    {
     "name": "stdout",
     "output_type": "stream",
     "text": [
      "reptran_solar_coarse.lookup.O3.cdf\r\n",
      "reptran_solar_envisat.lookup.O3.cdf\r\n",
      "reptran_solar_ers.lookup.O3.cdf\r\n",
      "reptran_solar_fine.lookup.O3.cdf\r\n",
      "reptran_solar_medium.lookup.O3.cdf\r\n",
      "reptran_solar_msg.lookup.O3.cdf\r\n",
      "reptran_solar_sentinel.lookup.O3.cdf\r\n",
      "reptran_thermal_coarse.lookup.O3.cdf\r\n",
      "reptran_thermal_earthcare.lookup.O3.cdf\r\n",
      "reptran_thermal_envisat.lookup.O3.cdf\r\n",
      "reptran_thermal_ers.lookup.O3.cdf\r\n",
      "reptran_thermal_fine.lookup.O3.cdf\r\n",
      "reptran_thermal_landsat.lookup.O3.cdf\r\n",
      "reptran_thermal_medium.lookup.O3.cdf\r\n",
      "reptran_thermal_msg.lookup.O3.cdf\r\n",
      "reptran_thermal_sentinel.lookup.O3.cdf\r\n"
     ]
    }
   ],
   "source": [
    "ls /Users/dagoret-campagnesylvie/MacOsX/LSST/softs/libRadtran-2.0.1/data/correlated_k/reptran | grep O3"
   ]
  },
  {
   "cell_type": "code",
   "execution_count": 197,
   "metadata": {
    "collapsed": true,
    "deletable": true,
    "editable": true
   },
   "outputs": [],
   "source": [
    "file_O3_list= ['reptran_solar_coarse.lookup.O3.cdf','reptran_solar_medium.lookup.O3.cdf','reptran_solar_fine.lookup.O3.cdf',\n",
    "...            'reptran_solar_ers.lookup.O3.cdf','reptran_solar_msg.lookup.O3.cdf','reptran_solar_sentinel.lookup.O3.cdf']"
   ]
  },
  {
   "cell_type": "markdown",
   "metadata": {
    "deletable": true,
    "editable": true
   },
   "source": [
    "## Test pycdf"
   ]
  },
  {
   "cell_type": "code",
   "execution_count": 198,
   "metadata": {
    "collapsed": false,
    "deletable": true,
    "editable": true
   },
   "outputs": [],
   "source": [
    "fullfilename=os.path.join(path,file_O3_list[2])"
   ]
  },
  {
   "cell_type": "code",
   "execution_count": 199,
   "metadata": {
    "collapsed": false,
    "deletable": true,
    "editable": true
   },
   "outputs": [
    {
     "name": "stdout",
     "output_type": "stream",
     "text": [
      "/Users/dagoret-campagnesylvie/MacOsX/LSST/softs/libRadtran-2.0.1/data/correlated_k/reptran/reptran_solar_fine.lookup.O3.cdf\n"
     ]
    }
   ],
   "source": [
    "print fullfilename"
   ]
  },
  {
   "cell_type": "markdown",
   "metadata": {},
   "source": [
    "## try opening with pycdf\n",
    "\n",
    "- failed because this cdf format is not recognized"
   ]
  },
  {
   "cell_type": "code",
   "execution_count": 200,
   "metadata": {
    "collapsed": false,
    "deletable": true,
    "editable": true
   },
   "outputs": [],
   "source": [
    "#cdf = pycdf.CDF(fullfilename)"
   ]
  },
  {
   "cell_type": "markdown",
   "metadata": {},
   "source": [
    "## try opening with netcdf"
   ]
  },
  {
   "cell_type": "code",
   "execution_count": 201,
   "metadata": {
    "collapsed": false
   },
   "outputs": [],
   "source": [
    "fh = Dataset(fullfilename, mode='r')"
   ]
  },
  {
   "cell_type": "code",
   "execution_count": 202,
   "metadata": {
    "collapsed": false
   },
   "outputs": [
    {
     "data": {
      "text/plain": [
       "<type 'netCDF4._netCDF4.Dataset'>\n",
       "root group (NETCDF3_CLASSIC data model, file format NETCDF3):\n",
       "    dimensions(sizes): nwvl(8792), n_vmrs(1), n_pressure(41), n_t_pert(9)\n",
       "    variables(dimensions): float64 \u001b[4mwvl\u001b[0m(nwvl), int32 \u001b[4mwvl_index\u001b[0m(nwvl), float64 \u001b[4mpressure\u001b[0m(n_pressure), float64 \u001b[4mvmrs\u001b[0m(n_vmrs), float64 \u001b[4mt_ref\u001b[0m(n_pressure), float64 \u001b[4mt_pert\u001b[0m(n_t_pert), float32 \u001b[4mxsec\u001b[0m(n_t_pert,n_vmrs,nwvl,n_pressure)\n",
       "    groups: "
      ]
     },
     "execution_count": 202,
     "metadata": {},
     "output_type": "execute_result"
    }
   ],
   "source": [
    "fh"
   ]
  },
  {
   "cell_type": "code",
   "execution_count": 203,
   "metadata": {
    "collapsed": false
   },
   "outputs": [
    {
     "name": "stdout",
     "output_type": "stream",
     "text": [
      "[u'nwvl', u'n_vmrs', u'n_pressure', u'n_t_pert']\n"
     ]
    }
   ],
   "source": [
    "print fh.dimensions.keys()"
   ]
  },
  {
   "cell_type": "code",
   "execution_count": 204,
   "metadata": {
    "collapsed": false
   },
   "outputs": [
    {
     "name": "stdout",
     "output_type": "stream",
     "text": [
      "<type 'netCDF4._netCDF4.Dimension'>: name = 'nwvl', size = 8792\n",
      "\n"
     ]
    }
   ],
   "source": [
    "print fh.dimensions['nwvl']"
   ]
  },
  {
   "cell_type": "code",
   "execution_count": 205,
   "metadata": {
    "collapsed": false
   },
   "outputs": [
    {
     "name": "stdout",
     "output_type": "stream",
     "text": [
      "<type 'netCDF4._netCDF4.Dimension'>: name = 'n_vmrs', size = 1\n",
      "\n"
     ]
    }
   ],
   "source": [
    "print fh.dimensions['n_vmrs']"
   ]
  },
  {
   "cell_type": "code",
   "execution_count": 206,
   "metadata": {
    "collapsed": false
   },
   "outputs": [
    {
     "name": "stdout",
     "output_type": "stream",
     "text": [
      "<type 'netCDF4._netCDF4.Dimension'>: name = 'n_pressure', size = 41\n",
      "\n"
     ]
    }
   ],
   "source": [
    "print fh.dimensions['n_pressure']"
   ]
  },
  {
   "cell_type": "code",
   "execution_count": 207,
   "metadata": {
    "collapsed": false
   },
   "outputs": [
    {
     "name": "stdout",
     "output_type": "stream",
     "text": [
      "<type 'netCDF4._netCDF4.Dimension'>: name = 'n_t_pert', size = 9\n",
      "\n"
     ]
    }
   ],
   "source": [
    "print fh.dimensions['n_t_pert']"
   ]
  },
  {
   "cell_type": "code",
   "execution_count": 208,
   "metadata": {
    "collapsed": false
   },
   "outputs": [
    {
     "name": "stdout",
     "output_type": "stream",
     "text": [
      "[u'wvl', u'wvl_index', u'pressure', u'vmrs', u't_ref', u't_pert', u'xsec']\n"
     ]
    }
   ],
   "source": [
    "print fh.variables.keys()"
   ]
  },
  {
   "cell_type": "code",
   "execution_count": 209,
   "metadata": {
    "collapsed": false
   },
   "outputs": [
    {
     "name": "stdout",
     "output_type": "stream",
     "text": [
      "<type 'netCDF4._netCDF4.Variable'>\n",
      "float64 wvl(nwvl)\n",
      "unlimited dimensions: \n",
      "current shape = (8792,)\n",
      "filling off\n",
      "\n"
     ]
    }
   ],
   "source": [
    "print fh.variables['wvl']"
   ]
  },
  {
   "cell_type": "code",
   "execution_count": 210,
   "metadata": {
    "collapsed": false
   },
   "outputs": [
    {
     "name": "stdout",
     "output_type": "stream",
     "text": [
      "<type 'netCDF4._netCDF4.Variable'>\n",
      "int32 wvl_index(nwvl)\n",
      "unlimited dimensions: \n",
      "current shape = (8792,)\n",
      "filling off\n",
      "\n"
     ]
    }
   ],
   "source": [
    "print fh.variables['wvl_index']"
   ]
  },
  {
   "cell_type": "code",
   "execution_count": 211,
   "metadata": {
    "collapsed": false
   },
   "outputs": [
    {
     "name": "stdout",
     "output_type": "stream",
     "text": [
      "<type 'netCDF4._netCDF4.Variable'>\n",
      "float64 pressure(n_pressure)\n",
      "unlimited dimensions: \n",
      "current shape = (41,)\n",
      "filling off\n",
      "\n"
     ]
    }
   ],
   "source": [
    "print fh.variables['pressure']"
   ]
  },
  {
   "cell_type": "code",
   "execution_count": 212,
   "metadata": {
    "collapsed": false
   },
   "outputs": [
    {
     "name": "stdout",
     "output_type": "stream",
     "text": [
      "<type 'netCDF4._netCDF4.Variable'>\n",
      "float64 vmrs(n_vmrs)\n",
      "unlimited dimensions: \n",
      "current shape = (1,)\n",
      "filling off\n",
      "\n"
     ]
    }
   ],
   "source": [
    "print fh.variables['vmrs']"
   ]
  },
  {
   "cell_type": "code",
   "execution_count": 213,
   "metadata": {
    "collapsed": false
   },
   "outputs": [
    {
     "name": "stdout",
     "output_type": "stream",
     "text": [
      "<type 'netCDF4._netCDF4.Variable'>\n",
      "float64 t_ref(n_pressure)\n",
      "unlimited dimensions: \n",
      "current shape = (41,)\n",
      "filling off\n",
      "\n"
     ]
    }
   ],
   "source": [
    "print fh.variables['t_ref']"
   ]
  },
  {
   "cell_type": "code",
   "execution_count": 214,
   "metadata": {
    "collapsed": false
   },
   "outputs": [
    {
     "name": "stdout",
     "output_type": "stream",
     "text": [
      "<type 'netCDF4._netCDF4.Variable'>\n",
      "float64 t_pert(n_t_pert)\n",
      "unlimited dimensions: \n",
      "current shape = (9,)\n",
      "filling off\n",
      "\n"
     ]
    }
   ],
   "source": [
    "print fh.variables['t_pert']"
   ]
  },
  {
   "cell_type": "code",
   "execution_count": 215,
   "metadata": {
    "collapsed": false
   },
   "outputs": [
    {
     "name": "stdout",
     "output_type": "stream",
     "text": [
      "<type 'netCDF4._netCDF4.Variable'>\n",
      "float32 xsec(n_t_pert, n_vmrs, nwvl, n_pressure)\n",
      "unlimited dimensions: \n",
      "current shape = (9, 1, 8792, 41)\n",
      "filling off\n",
      "\n"
     ]
    }
   ],
   "source": [
    "print fh.variables['xsec']"
   ]
  },
  {
   "cell_type": "code",
   "execution_count": 216,
   "metadata": {
    "collapsed": false
   },
   "outputs": [],
   "source": [
    "for attr in fh.ncattrs(): \n",
    "...     print attr, '=', getattr(dataset, attr) "
   ]
  },
  {
   "cell_type": "code",
   "execution_count": 217,
   "metadata": {
    "collapsed": false
   },
   "outputs": [],
   "source": [
    "wvl = fh.variables['wvl'][:]\n",
    "wvl_index = fh.variables['wvl_index'][:]\n",
    "pressure = fh.variables['pressure'][:]\n",
    "vmrs = fh.variables['vmrs'][:]\n",
    "t_ref= fh.variables['t_ref'][:]\n",
    "t_pert= fh.variables['t_pert'][:]\n",
    "xsec= fh.variables['xsec'][:,:,:,:]\n",
    "#xsec_units = fh.variables['wvl'].units\n"
   ]
  },
  {
   "cell_type": "code",
   "execution_count": 218,
   "metadata": {
    "collapsed": false
   },
   "outputs": [
    {
     "data": {
      "text/plain": [
       "[<matplotlib.lines.Line2D at 0x117cf5d10>]"
      ]
     },
     "execution_count": 218,
     "metadata": {},
     "output_type": "execute_result"
    },
    {
     "data": {
      "image/png": "[encoded data removed]",
      "text/plain": [
       "<matplotlib.figure.Figure at 0x115f57510>"
      ]
     },
     "metadata": {},
     "output_type": "display_data"
    }
   ],
   "source": [
    "plt.plot(wvl_index,wvl,'o')"
   ]
  },
  {
   "cell_type": "code",
   "execution_count": 219,
   "metadata": {
    "collapsed": false
   },
   "outputs": [
    {
     "data": {
      "text/plain": [
       "[<matplotlib.lines.Line2D at 0x117e5d850>]"
      ]
     },
     "execution_count": 219,
     "metadata": {},
     "output_type": "execute_result"
    },
    {
     "data": {
      "image/png": "[encoded data removed]",
      "text/plain": [
       "<matplotlib.figure.Figure at 0x117d32910>"
      ]
     },
     "metadata": {},
     "output_type": "display_data"
    }
   ],
   "source": [
    "plt.plot(pressure,'o')"
   ]
  },
  {
   "cell_type": "code",
   "execution_count": 220,
   "metadata": {
    "collapsed": false
   },
   "outputs": [
    {
     "data": {
      "text/plain": [
       "[<matplotlib.lines.Line2D at 0x117fe00d0>]"
      ]
     },
     "execution_count": 220,
     "metadata": {},
     "output_type": "execute_result"
    },
    {
     "data": {
      "image/png": "[encoded data removed]",
      "text/plain": [
       "<matplotlib.figure.Figure at 0x117e7f9d0>"
      ]
     },
     "metadata": {},
     "output_type": "display_data"
    }
   ],
   "source": [
    "plt.plot(t_pert,'o')"
   ]
  },
  {
   "cell_type": "code",
   "execution_count": 221,
   "metadata": {
    "collapsed": true,
    "deletable": true,
    "editable": true
   },
   "outputs": [],
   "source": [
    "xsec0=xsec[4,0,:,1]"
   ]
  },
  {
   "cell_type": "code",
   "execution_count": 222,
   "metadata": {
    "collapsed": false
   },
   "outputs": [
    {
     "data": {
      "text/plain": [
       "[<matplotlib.lines.Line2D at 0x118151a90>]"
      ]
     },
     "execution_count": 222,
     "metadata": {},
     "output_type": "execute_result"
    },
    {
     "data": {
      "image/png": "[encoded data removed]",
      "text/plain": [
       "<matplotlib.figure.Figure at 0x118023050>"
      ]
     },
     "metadata": {},
     "output_type": "display_data"
    }
   ],
   "source": [
    "plt.plot(wvl,xsec0,'o')"
   ]
  },
  {
   "cell_type": "code",
   "execution_count": 223,
   "metadata": {
    "collapsed": false
   },
   "outputs": [
    {
     "data": {
      "text/plain": [
       "[<matplotlib.lines.Line2D at 0x1182cab90>]"
      ]
     },
     "execution_count": 223,
     "metadata": {},
     "output_type": "execute_result"
    },
    {
     "data": {
      "image/png": "[encoded data removed]",
      "text/plain": [
       "<matplotlib.figure.Figure at 0x118176510>"
      ]
     },
     "metadata": {},
     "output_type": "display_data"
    }
   ],
   "source": [
    "plt.plot(wvl,xsec0)\n",
    "#plt.xlim(2000.,3000.)\n",
    "#plt.ylim(0,0.00001)"
   ]
  },
  {
   "cell_type": "code",
   "execution_count": null,
   "metadata": {
    "collapsed": true
   },
   "outputs": [],
   "source": []
  }
 ],
 "metadata": {
  "anaconda-cloud": {},
  "kernelspec": {
   "display_name": "Python [conda env:pyastrophys]",
   "language": "python",
   "name": "conda-env-pyastrophys-py"
  },
  "language_info": {
   "codemirror_mode": {
    "name": "ipython",
    "version": 2
   },
   "file_extension": ".py",
   "mimetype": "text/x-python",
   "name": "python",
   "nbconvert_exporter": "python",
   "pygments_lexer": "ipython2",
   "version": "2.7.12"
  },
  "toc": {
   "colors": {
    "hover_highlight": "#DAA520",
    "running_highlight": "#FF0000",
    "selected_highlight": "#FFD700"
   },
   "moveMenuLeft": true,
   "nav_menu": {
    "height": "47px",
    "width": "252px"
   },
   "navigate_menu": true,
   "number_sections": true,
   "sideBar": true,
   "threshold": 4,
   "toc_cell": false,
   "toc_section_display": "block",
   "toc_window_display": false,
   "widenNotebook": false
  }
 },
 "nbformat": 4,
 "nbformat_minor": 2
}
