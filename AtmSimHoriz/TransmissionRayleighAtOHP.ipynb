{
 "cells": [
  {
   "cell_type": "markdown",
   "metadata": {
    "deletable": true,
    "editable": true
   },
   "source": [
    "# Transmission of Air Rayleigh Scattering\n",
    "==============================================================\n",
    "\n",
    "\n",
    "The purpose is to calculate the transmission of air due to Rayleigh Scattering\n",
    "\n",
    "- author : Sylvie Dagoret-Campagne\n",
    "- date :May  3rd 2017"
   ]
  },
  {
   "cell_type": "code",
   "execution_count": 28,
   "metadata": {
    "collapsed": false,
    "deletable": true,
    "editable": true
   },
   "outputs": [],
   "source": [
    "import numpy as np\n",
    "import pandas as pd\n",
    "\n",
    "# Set up matplotlib and use a nicer set of plot parameters\n",
    "#%config InlineBackend.rc = {}\n",
    "import matplotlib\n",
    "#matplotlib.rc_file(\"templates/matplotlibrc\")\n",
    "import matplotlib.pyplot as plt\n",
    "\n",
    "%matplotlib inline\n",
    "\n",
    "#import matplotlib as mpl"
   ]
  },
  {
   "cell_type": "code",
   "execution_count": 29,
   "metadata": {
    "collapsed": true,
    "deletable": true,
    "editable": true
   },
   "outputs": [],
   "source": [
    "# to enlarge the sizes\n",
    "params = {'legend.fontsize': 'x-large',\n",
    "          'figure.figsize': (8, 6),\n",
    "         'axes.labelsize': 'x-large',\n",
    "         'axes.titlesize':'x-large',\n",
    "         'xtick.labelsize':'x-large',\n",
    "         'ytick.labelsize':'x-large'}\n",
    "plt.rcParams.update(params)"
   ]
  },
  {
   "cell_type": "code",
   "execution_count": 30,
   "metadata": {
    "collapsed": true
   },
   "outputs": [],
   "source": [
    "from astropy.constants import N_A,R,g0\n",
    "from astropy import units as u"
   ]
  },
  {
   "cell_type": "markdown",
   "metadata": {
    "deletable": true,
    "editable": true
   },
   "source": [
    "# Initialisation"
   ]
  },
  {
   "cell_type": "markdown",
   "metadata": {
    "deletable": true,
    "editable": true
   },
   "source": [
    "## Constants"
   ]
  },
  {
   "cell_type": "code",
   "execution_count": 59,
   "metadata": {
    "collapsed": true
   },
   "outputs": [],
   "source": [
    "distance=200*u.m\n",
    "altitude=650*u.m"
   ]
  },
  {
   "cell_type": "code",
   "execution_count": 32,
   "metadata": {
    "collapsed": true
   },
   "outputs": [],
   "source": [
    "M_air= 28.965338*u.g/u.mol\n",
    "M_air_dry=28.9644*u.g/u.mol\n",
    "M_h2o=18.016*u.g/u.mol\n",
    "\n",
    "P0=101325.*u.Pa;   # /*!< Pa : pressure at see level */\n",
    "T0=288.15*u.K;   #/*!< sea level temperature */  \n",
    "L=0.0065*u.K/u.m  # refroidissement en fonction de l'altitude"
   ]
  },
  {
   "cell_type": "markdown",
   "metadata": {},
   "source": [
    "##  Functions"
   ]
  },
  {
   "cell_type": "code",
   "execution_count": 33,
   "metadata": {
    "collapsed": true
   },
   "outputs": [],
   "source": [
    "def Pressure(h):\n",
    "    P=P0*np.exp(g0*M_air_dry/R/L*np.log(1-L*h/T0))\n",
    "    return P"
   ]
  },
  {
   "cell_type": "code",
   "execution_count": 34,
   "metadata": {
    "collapsed": true
   },
   "outputs": [],
   "source": [
    "def XDepth(altitude,costh=1):\n",
    "    \"\"\"\n",
    "    Function : XDepth(altitude,costh)\n",
    "      Provide the column depth in gr / cm^2 equivalent of airmass in physical units\n",
    "    - Input :  altitude : input altitude in meters\n",
    "    - Input :  costh    : input cosimus of zenith angle \n",
    "    - Output :  XDepth  : output column depth in gr per cm squared\n",
    "    \"\"\"\n",
    "    h=altitude\n",
    "    XD=Pressure(h)/g0/costh\n",
    "    return XD"
   ]
  },
  {
   "cell_type": "code",
   "execution_count": 35,
   "metadata": {
    "collapsed": true
   },
   "outputs": [],
   "source": [
    "def RayOptDepth(wavelength, altitude=0*u.m, costh=1):\n",
    "    \"\"\"\n",
    "    Function RayOptDepth(double wavelength, double altitude, double costh)\n",
    "\n",
    "    Provide Rayleigh optical depth\n",
    "         \n",
    "    - Input  wavelength : input wavelength in nm\n",
    "    - Input  altitude : input altitude in meters\n",
    "    - Input   costh    : input cosimus of zenith angle \n",
    "    - Output  OptDepth  : output optical depth no unit, for Rayleigh\n",
    "    \"\"\"\n",
    "\n",
    "    h=altitude\n",
    "\n",
    "    A=(XDepth(h,costh)/(3102.*u.g/(u.cm*u.cm)))\n",
    "    B=np.exp(-4.*np.log(wavelength/(400.*u.nm)))  \n",
    "    C= 1-0.0722*np.exp(-2*np.log(wavelength/(400.*u.nm)))\n",
    "\n",
    "    OD=A*B/C\n",
    "        \n",
    "    #double OD=XDepth(altitude,costh)/2970.*np.power((wavelength/400.),-4);\n",
    "\n",
    "    return OD"
   ]
  },
  {
   "cell_type": "code",
   "execution_count": 36,
   "metadata": {
    "collapsed": false
   },
   "outputs": [],
   "source": [
    "def RayOptDepthXD(wavelength, xdepth):\n",
    "    \"\"\"\n",
    "    Function RayOptDepthXD(wavelength, xdepth)\n",
    "\n",
    "    Provide Rayleigh optical depth\n",
    "         \n",
    "    - Input  wavelength : input wavelength in nm\n",
    "    - Input   xdepth   : depth\n",
    "    - Output  OptDepth  : output optical depth no unit, for Rayleigh\n",
    "    \"\"\"\n",
    "\n",
    "    A=xdepth/(3102.*u.g/(u.cm*u.cm))\n",
    "    B=np.exp(-4.*np.log(wavelength/(400.*u.nm)))  \n",
    "    C= 1-0.0722*np.exp(-2*np.log(wavelength/(400.*u.nm)))\n",
    "\n",
    "    OD=A*B/C       \n",
    "    \n",
    "    return OD"
   ]
  },
  {
   "cell_type": "markdown",
   "metadata": {},
   "source": [
    "## Data"
   ]
  },
  {
   "cell_type": "code",
   "execution_count": 37,
   "metadata": {
    "collapsed": false,
    "deletable": true,
    "editable": true
   },
   "outputs": [],
   "source": [
    "atm_ground_file='atm_OHP_ground.csv'\n",
    "atm_groundsum_file='atm_OHP_groundsum.csv'"
   ]
  },
  {
   "cell_type": "code",
   "execution_count": 38,
   "metadata": {
    "collapsed": true,
    "deletable": true,
    "editable": true
   },
   "outputs": [],
   "source": [
    "df=pd.read_csv(atm_ground_file)"
   ]
  },
  {
   "cell_type": "code",
   "execution_count": 39,
   "metadata": {
    "collapsed": false,
    "deletable": true,
    "editable": true
   },
   "outputs": [
    {
     "data": {
      "text/html": [
       "<div>\n",
       "<table border=\"1\" class=\"dataframe\">\n",
       "  <thead>\n",
       "    <tr style=\"text-align: right;\">\n",
       "      <th></th>\n",
       "      <th>Unnamed: 0</th>\n",
       "      <th>P</th>\n",
       "      <th>T</th>\n",
       "      <th>Air</th>\n",
       "      <th>O2</th>\n",
       "      <th>O3</th>\n",
       "      <th>PWV</th>\n",
       "      <th>CO2</th>\n",
       "      <th>NO2</th>\n",
       "    </tr>\n",
       "  </thead>\n",
       "  <tbody>\n",
       "    <tr>\n",
       "      <th>0</th>\n",
       "      <td>afglus_grd</td>\n",
       "      <td>937.22595</td>\n",
       "      <td>283.98</td>\n",
       "      <td>2.390570e+19</td>\n",
       "      <td>5.000690e+18</td>\n",
       "      <td>6.785990e+11</td>\n",
       "      <td>1.592780e+17</td>\n",
       "      <td>7.895830e+15</td>\n",
       "      <td>550316000.0</td>\n",
       "    </tr>\n",
       "    <tr>\n",
       "      <th>1</th>\n",
       "      <td>afglmw_grd</td>\n",
       "      <td>937.82373</td>\n",
       "      <td>269.93</td>\n",
       "      <td>2.516510e+19</td>\n",
       "      <td>5.262860e+18</td>\n",
       "      <td>7.031330e+11</td>\n",
       "      <td>9.457420e+16</td>\n",
       "      <td>8.309770e+15</td>\n",
       "      <td>579166000.0</td>\n",
       "    </tr>\n",
       "    <tr>\n",
       "      <th>2</th>\n",
       "      <td>afglms_grd</td>\n",
       "      <td>939.39349</td>\n",
       "      <td>291.28</td>\n",
       "      <td>2.335970e+19</td>\n",
       "      <td>4.886270e+18</td>\n",
       "      <td>7.539820e+11</td>\n",
       "      <td>3.629170e+17</td>\n",
       "      <td>7.715160e+15</td>\n",
       "      <td>537723000.0</td>\n",
       "    </tr>\n",
       "  </tbody>\n",
       "</table>\n",
       "</div>"
      ],
      "text/plain": [
       "   Unnamed: 0          P       T           Air            O2            O3  \\\n",
       "0  afglus_grd  937.22595  283.98  2.390570e+19  5.000690e+18  6.785990e+11   \n",
       "1  afglmw_grd  937.82373  269.93  2.516510e+19  5.262860e+18  7.031330e+11   \n",
       "2  afglms_grd  939.39349  291.28  2.335970e+19  4.886270e+18  7.539820e+11   \n",
       "\n",
       "            PWV           CO2          NO2  \n",
       "0  1.592780e+17  7.895830e+15  550316000.0  \n",
       "1  9.457420e+16  8.309770e+15  579166000.0  \n",
       "2  3.629170e+17  7.715160e+15  537723000.0  "
      ]
     },
     "execution_count": 39,
     "metadata": {},
     "output_type": "execute_result"
    }
   ],
   "source": [
    "df  # Pressure in hPa, T in Kelvin, densities in molecules per cm^3"
   ]
  },
  {
   "cell_type": "code",
   "execution_count": 41,
   "metadata": {
    "collapsed": false,
    "deletable": true,
    "editable": true
   },
   "outputs": [],
   "source": [
    "d_Air_us=df['Air'][0]/(u.cm)**3  # molec/cm^3 : H2O density  for US standard atmosphere at ground\n",
    "d_Air_mw=df['Air'][1]/(u.cm)**3 # molec/cm^3 : H2O density  for Mid latitude winter atmosphere at ground\n",
    "d_Air_ms=df['Air'][2]/(u.cm)**3 # molec/cm^3 : H2O density  for Mid latitude summer atmosphere at ground"
   ]
  },
  {
   "cell_type": "markdown",
   "metadata": {},
   "source": [
    "# Calculate Rayleigh"
   ]
  },
  {
   "cell_type": "code",
   "execution_count": 45,
   "metadata": {
    "collapsed": true
   },
   "outputs": [],
   "source": [
    "XDepth_us=d_Air_us*distance/N_A*M_air_dry\n",
    "XDepth_mw=d_Air_mw*distance/N_A*M_air_dry\n",
    "XDepth_ms=d_Air_ms*distance/N_A*M_air_dry"
   ]
  },
  {
   "cell_type": "code",
   "execution_count": null,
   "metadata": {
    "collapsed": true
   },
   "outputs": [],
   "source": []
  },
  {
   "cell_type": "code",
   "execution_count": 46,
   "metadata": {
    "collapsed": false
   },
   "outputs": [],
   "source": [
    "wavelength=np.linspace(200.,1100.,100)*u.nm"
   ]
  },
  {
   "cell_type": "code",
   "execution_count": 50,
   "metadata": {
    "collapsed": true
   },
   "outputs": [],
   "source": [
    "rayleigh_od_us= RayOptDepthXD(wavelength,XDepth_us)\n",
    "rayleigh_od_mw= RayOptDepthXD(wavelength,XDepth_mw)\n",
    "rayleigh_od_ms= RayOptDepthXD(wavelength,XDepth_ms)"
   ]
  },
  {
   "cell_type": "code",
   "execution_count": 60,
   "metadata": {
    "collapsed": false
   },
   "outputs": [],
   "source": [
    "rayleigh_vod=RayOptDepth(wavelength, altitude=altitude)"
   ]
  },
  {
   "cell_type": "code",
   "execution_count": 63,
   "metadata": {
    "collapsed": false
   },
   "outputs": [
    {
     "name": "stdout",
     "output_type": "stream",
     "text": [
      "[  6.93372422e+00   5.61044517e+00   4.59748353e+00   3.80916345e+00\n",
      "   3.18682843e+00   2.68932592e+00   2.28716886e+00   1.95883678e+00\n",
      "   1.68836670e+00   1.46374595e+00   1.27581690e+00   1.11751641e+00\n",
      "   9.83338678e-01   8.68950101e-01   7.70909249e-01   6.86460713e-01\n",
      "   6.13381566e-01   5.49865804e-01   4.94436499e-01   4.45878427e-01\n",
      "   4.03185948e-01   3.65522365e-01   3.32188017e-01   3.02595026e-01\n",
      "   2.76247214e-01   2.52723999e-01   2.31667437e-01   2.12771720e-01\n",
      "   1.95774622e-01   1.80450507e-01   1.66604578e-01   1.54068125e-01\n",
      "   1.42694591e-01   1.32356295e-01   1.22941687e-01   1.14353052e-01\n",
      "   1.06504577e-01   9.93207147e-02   9.27347963e-02   8.66878571e-02\n",
      "   8.11276303e-02   7.60076889e-02   7.12867090e-02   6.69278368e-02\n",
      "   6.28981422e-02   5.91681477e-02   5.57114191e-02   5.25042108e-02\n",
      "   4.95251567e-02   4.67550010e-02   4.41763626e-02   4.17735290e-02\n",
      "   3.95322747e-02   3.74397030e-02   3.54841048e-02   3.36548355e-02\n",
      "   3.19422053e-02   3.03373828e-02   2.88323081e-02   2.74196176e-02\n",
      "   2.60925752e-02   2.48450122e-02   2.36712730e-02   2.25661669e-02\n",
      "   2.15249248e-02   2.05431607e-02   1.96168365e-02   1.87422309e-02\n",
      "   1.79159113e-02   1.71347084e-02   1.63956934e-02   1.56961574e-02\n",
      "   1.50335924e-02   1.44056746e-02   1.38102493e-02   1.32453165e-02\n",
      "   1.27090188e-02   1.21996294e-02   1.17155423e-02   1.12552620e-02\n",
      "   1.08173954e-02   1.04006439e-02   1.00037956e-02   9.62571934e-03\n",
      "   9.26535823e-03   8.92172427e-03   8.59389324e-03   8.28100000e-03\n",
      "   7.98223424e-03   7.69683653e-03   7.42409468e-03   7.16334045e-03\n",
      "   6.91394643e-03   6.67532323e-03   6.44691686e-03   6.22820634e-03\n",
      "   6.01870143e-03   5.81794062e-03   5.62548918e-03   5.44093741e-03]\n"
     ]
    }
   ],
   "source": [
    "print rayleigh_vod.decompose()"
   ]
  },
  {
   "cell_type": "code",
   "execution_count": 65,
   "metadata": {
    "collapsed": false
   },
   "outputs": [],
   "source": [
    "T_us=np.exp(-rayleigh_od_us.decompose())\n",
    "T_mw=np.exp(-rayleigh_od_mw.decompose())\n",
    "T_ms=np.exp(-rayleigh_od_ms.decompose())\n",
    "T_vod=np.exp(-rayleigh_vod.decompose())"
   ]
  },
  {
   "cell_type": "code",
   "execution_count": 69,
   "metadata": {
    "collapsed": false
   },
   "outputs": [
    {
     "data": {
      "text/plain": [
       "<matplotlib.legend.Legend at 0x10b596650>"
      ]
     },
     "execution_count": 69,
     "metadata": {},
     "output_type": "execute_result"
    },
    {
     "data": {
      "image/png": "[encoded data removed]",
      "text/plain": [
       "<matplotlib.figure.Figure at 0x10b460ed0>"
      ]
     },
     "metadata": {},
     "output_type": "display_data"
    }
   ],
   "source": [
    "plt.plot(wavelength,T_us,'r',label='horiz us')\n",
    "plt.plot(wavelength,T_mw,'b',label='horiz mw')\n",
    "plt.plot(wavelength,T_ms,'g',label='horiz ms')\n",
    "plt.plot(wavelength,T_vod,'k',label='vertical')\n",
    "plt.title('Rayleigh transmission at StarDice@OHP')\n",
    "plt.ylabel('transmission')\n",
    "plt.xlabel('wavelength (nm)')\n",
    "plt.legend()"
   ]
  },
  {
   "cell_type": "code",
   "execution_count": null,
   "metadata": {
    "collapsed": true
   },
   "outputs": [],
   "source": []
  }
 ],
 "metadata": {
  "anaconda-cloud": {},
  "kernelspec": {
   "display_name": "Python [conda env:pyastrophys]",
   "language": "python",
   "name": "conda-env-pyastrophys-py"
  },
  "language_info": {
   "codemirror_mode": {
    "name": "ipython",
    "version": 2
   },
   "file_extension": ".py",
   "mimetype": "text/x-python",
   "name": "python",
   "nbconvert_exporter": "python",
   "pygments_lexer": "ipython2",
   "version": "2.7.12"
  },
  "toc": {
   "colors": {
    "hover_highlight": "#DAA520",
    "running_highlight": "#FF0000",
    "selected_highlight": "#FFD700"
   },
   "moveMenuLeft": true,
   "nav_menu": {
    "height": "47px",
    "width": "252px"
   },
   "navigate_menu": true,
   "number_sections": true,
   "sideBar": true,
   "threshold": 4,
   "toc_cell": false,
   "toc_section_display": "block",
   "toc_window_display": false,
   "widenNotebook": false
  }
 },
 "nbformat": 4,
 "nbformat_minor": 2
}
