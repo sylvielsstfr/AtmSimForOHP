{
 "cells": [
  {
   "cell_type": "markdown",
   "metadata": {
    "deletable": true,
    "editable": true
   },
   "source": [
    "# Transmission of Air with $O_2$ absorption\n",
    "==============================================================\n",
    "\n",
    "\n",
    "The purpose is to calculate the transmission of air due to $O_2$ component at OHP site.\n",
    "\n",
    "- author : Sylvie Dagoret-Campagne\n",
    "- date :May  2nd 2017"
   ]
  },
  {
   "cell_type": "code",
   "execution_count": 1,
   "metadata": {
    "collapsed": false,
    "deletable": true,
    "editable": true
   },
   "outputs": [],
   "source": [
    "import numpy as np\n",
    "import pandas as pd\n",
    "\n",
    "# Set up matplotlib and use a nicer set of plot parameters\n",
    "#%config InlineBackend.rc = {}\n",
    "import matplotlib\n",
    "#matplotlib.rc_file(\"templates/matplotlibrc\")\n",
    "import matplotlib.pyplot as plt\n",
    "\n",
    "%matplotlib inline\n",
    "\n",
    "#import matplotlib as mpl"
   ]
  },
  {
   "cell_type": "code",
   "execution_count": 2,
   "metadata": {
    "collapsed": true,
    "deletable": true,
    "editable": true
   },
   "outputs": [],
   "source": [
    "# to enlarge the sizes\n",
    "params = {'legend.fontsize': 'x-large',\n",
    "          'figure.figsize': (8, 6),\n",
    "         'axes.labelsize': 'x-large',\n",
    "         'axes.titlesize':'x-large',\n",
    "         'xtick.labelsize':'x-large',\n",
    "         'ytick.labelsize':'x-large'}\n",
    "plt.rcParams.update(params)"
   ]
  },
  {
   "cell_type": "markdown",
   "metadata": {
    "deletable": true,
    "editable": true
   },
   "source": [
    "# Initialisation"
   ]
  },
  {
   "cell_type": "markdown",
   "metadata": {
    "deletable": true,
    "editable": true
   },
   "source": [
    "## Constants"
   ]
  },
  {
   "cell_type": "code",
   "execution_count": 3,
   "metadata": {
    "collapsed": true,
    "deletable": true,
    "editable": true
   },
   "outputs": [],
   "source": [
    "Pa_to_Atm = 0.00000986923267\n",
    "hPa_to_Atm=Pa_to_Atm*100  # libRadTran provides pressure in hPa\n",
    "Atm_to_Pa = 1.01325*1e5 \n",
    "Atm_to_hPa = 1.01325*1e3 "
   ]
  },
  {
   "cell_type": "code",
   "execution_count": 4,
   "metadata": {
    "collapsed": false,
    "deletable": true,
    "editable": true
   },
   "outputs": [],
   "source": [
    "m_to_cm=100."
   ]
  },
  {
   "cell_type": "markdown",
   "metadata": {
    "deletable": true,
    "editable": true
   },
   "source": [
    "## Initialize Hitran/Hapi"
   ]
  },
  {
   "cell_type": "code",
   "execution_count": 5,
   "metadata": {
    "collapsed": false,
    "deletable": true,
    "editable": true
   },
   "outputs": [
    {
     "name": "stdout",
     "output_type": "stream",
     "text": [
      "HAPI version: 1.1.0.6\n",
      "To get the most up-to-date version please check http://hitran.org/hapi\n"
     ]
    }
   ],
   "source": [
    "from hapi import *"
   ]
  },
  {
   "cell_type": "code",
   "execution_count": 6,
   "metadata": {
    "collapsed": false,
    "deletable": true,
    "editable": true
   },
   "outputs": [
    {
     "name": "stdout",
     "output_type": "stream",
     "text": [
      "Using data\n",
      "\n",
      "CO2\n",
      "                     Lines parsed: 3831\n",
      "H2O\n",
      "                     Lines parsed: 110080\n",
      "NO2\n",
      "                     Lines parsed: 5873\n",
      "O\n",
      "                     Lines parsed: 80101\n",
      "O2\n",
      "                     Lines parsed: 1180\n",
      "O3\n",
      "                     Lines parsed: 16584\n"
     ]
    }
   ],
   "source": [
    "db_begin('data')"
   ]
  },
  {
   "cell_type": "markdown",
   "metadata": {
    "deletable": true,
    "editable": true
   },
   "source": [
    "## Initialisation of atmosphere at OHP"
   ]
  },
  {
   "cell_type": "code",
   "execution_count": 7,
   "metadata": {
    "collapsed": false,
    "deletable": true,
    "editable": true
   },
   "outputs": [],
   "source": [
    "atm_ground_file='atm_OHP_ground.csv'\n",
    "atm_groundsum_file='atm_OHP_groundsum.csv'"
   ]
  },
  {
   "cell_type": "code",
   "execution_count": 8,
   "metadata": {
    "collapsed": true,
    "deletable": true,
    "editable": true
   },
   "outputs": [],
   "source": [
    "df=pd.read_csv(atm_ground_file)"
   ]
  },
  {
   "cell_type": "code",
   "execution_count": 9,
   "metadata": {
    "collapsed": false,
    "deletable": true,
    "editable": true
   },
   "outputs": [
    {
     "data": {
      "text/html": [
       "<div>\n",
       "<table border=\"1\" class=\"dataframe\">\n",
       "  <thead>\n",
       "    <tr style=\"text-align: right;\">\n",
       "      <th></th>\n",
       "      <th>Unnamed: 0</th>\n",
       "      <th>P</th>\n",
       "      <th>T</th>\n",
       "      <th>Air</th>\n",
       "      <th>O2</th>\n",
       "      <th>O3</th>\n",
       "      <th>PWV</th>\n",
       "      <th>CO2</th>\n",
       "      <th>NO2</th>\n",
       "    </tr>\n",
       "  </thead>\n",
       "  <tbody>\n",
       "    <tr>\n",
       "      <th>0</th>\n",
       "      <td>afglus_grd</td>\n",
       "      <td>937.22595</td>\n",
       "      <td>283.98</td>\n",
       "      <td>2.390570e+19</td>\n",
       "      <td>5.000690e+18</td>\n",
       "      <td>6.785990e+11</td>\n",
       "      <td>1.592780e+17</td>\n",
       "      <td>7.895830e+15</td>\n",
       "      <td>550316000.0</td>\n",
       "    </tr>\n",
       "    <tr>\n",
       "      <th>1</th>\n",
       "      <td>afglmw_grd</td>\n",
       "      <td>937.82373</td>\n",
       "      <td>269.93</td>\n",
       "      <td>2.516510e+19</td>\n",
       "      <td>5.262860e+18</td>\n",
       "      <td>7.031330e+11</td>\n",
       "      <td>9.457420e+16</td>\n",
       "      <td>8.309770e+15</td>\n",
       "      <td>579166000.0</td>\n",
       "    </tr>\n",
       "    <tr>\n",
       "      <th>2</th>\n",
       "      <td>afglms_grd</td>\n",
       "      <td>939.39349</td>\n",
       "      <td>291.28</td>\n",
       "      <td>2.335970e+19</td>\n",
       "      <td>4.886270e+18</td>\n",
       "      <td>7.539820e+11</td>\n",
       "      <td>3.629170e+17</td>\n",
       "      <td>7.715160e+15</td>\n",
       "      <td>537723000.0</td>\n",
       "    </tr>\n",
       "  </tbody>\n",
       "</table>\n",
       "</div>"
      ],
      "text/plain": [
       "   Unnamed: 0          P       T           Air            O2            O3  \\\n",
       "0  afglus_grd  937.22595  283.98  2.390570e+19  5.000690e+18  6.785990e+11   \n",
       "1  afglmw_grd  937.82373  269.93  2.516510e+19  5.262860e+18  7.031330e+11   \n",
       "2  afglms_grd  939.39349  291.28  2.335970e+19  4.886270e+18  7.539820e+11   \n",
       "\n",
       "            PWV           CO2          NO2  \n",
       "0  1.592780e+17  7.895830e+15  550316000.0  \n",
       "1  9.457420e+16  8.309770e+15  579166000.0  \n",
       "2  3.629170e+17  7.715160e+15  537723000.0  "
      ]
     },
     "execution_count": 9,
     "metadata": {},
     "output_type": "execute_result"
    }
   ],
   "source": [
    "df  # Pressure in hPa, T in Kelvin, densities in molecules per cm^3"
   ]
  },
  {
   "cell_type": "code",
   "execution_count": 10,
   "metadata": {
    "collapsed": true,
    "deletable": true,
    "editable": true
   },
   "outputs": [],
   "source": [
    "d_O2_us=df['O2'][0]  # molec/cm^3 : H2O density  for US standard atmosphere at ground\n",
    "d_O2_mw=df['O2'][1] # molec/cm^3 : H2O density  for Mid latitude winter atmosphere at ground\n",
    "d_O2_ms=df['O2'][2] # molec/cm^3 : H2O density  for Mid latitude summer atmosphere at ground"
   ]
  },
  {
   "cell_type": "code",
   "execution_count": 11,
   "metadata": {
    "collapsed": true,
    "deletable": true,
    "editable": true
   },
   "outputs": [],
   "source": [
    "P_us=df['P'][0] # Pressure at ground in hPa  for US standard atmosphere at ground\n",
    "P_mw=df['P'][1] # Pressure at ground in hPa for Mid latitude winter atmosphere at ground\n",
    "P_ms=df['P'][2] # Pressure at ground in hPa for Mid latitude summer atmosphere at ground"
   ]
  },
  {
   "cell_type": "code",
   "execution_count": 12,
   "metadata": {
    "collapsed": true,
    "deletable": true,
    "editable": true
   },
   "outputs": [],
   "source": [
    "T_us=df['T'][0] # Temperature at ground in hPa  for US standard atmosphere at ground\n",
    "T_mw=df['T'][1] # Temperature at ground in hPa for Mid latitude winter atmosphere at ground\n",
    "T_ms=df['T'][2] # Temperature at ground in hPa for Mid latitude summer atmosphere at ground"
   ]
  },
  {
   "cell_type": "code",
   "execution_count": 14,
   "metadata": {
    "collapsed": false,
    "deletable": true,
    "editable": true
   },
   "outputs": [
    {
     "name": "stdout",
     "output_type": "stream",
     "text": [
      "5.00069e+18 5.26286e+18 4.88627e+18\n"
     ]
    }
   ],
   "source": [
    "print d_O2_us, d_O2_mw, d_O2_ms"
   ]
  },
  {
   "cell_type": "code",
   "execution_count": 15,
   "metadata": {
    "collapsed": true,
    "deletable": true,
    "editable": true
   },
   "outputs": [],
   "source": [
    "Patm_us = P_us*hPa_to_Atm\n",
    "Patm_mw = P_mw*hPa_to_Atm\n",
    "Patm_ms = P_ms*hPa_to_Atm"
   ]
  },
  {
   "cell_type": "code",
   "execution_count": 16,
   "metadata": {
    "collapsed": false,
    "deletable": true,
    "editable": true
   },
   "outputs": [
    {
     "name": "stdout",
     "output_type": "stream",
     "text": [
      "0.924970096491 0.925560059482 0.927109292149\n"
     ]
    }
   ],
   "source": [
    "print Patm_us,Patm_mw,Patm_ms"
   ]
  },
  {
   "cell_type": "markdown",
   "metadata": {
    "deletable": true,
    "editable": true
   },
   "source": [
    "## Parameters"
   ]
  },
  {
   "cell_type": "code",
   "execution_count": 17,
   "metadata": {
    "collapsed": true,
    "deletable": true,
    "editable": true
   },
   "outputs": [],
   "source": [
    "Distance_source_tel=200*m_to_cm"
   ]
  },
  {
   "cell_type": "code",
   "execution_count": 18,
   "metadata": {
    "collapsed": false,
    "deletable": true,
    "editable": true
   },
   "outputs": [],
   "source": [
    "WLMIN=200.  # nm\n",
    "WLMAX=1200. # nm\n",
    "\n",
    "NUMIN=1e7/WLMAX  # cm-1\n",
    "NUMAX=1e7/WLMIN  # cm-1"
   ]
  },
  {
   "cell_type": "code",
   "execution_count": 19,
   "metadata": {
    "collapsed": false,
    "deletable": true,
    "editable": true
   },
   "outputs": [
    {
     "name": "stdout",
     "output_type": "stream",
     "text": [
      "BEGIN DOWNLOAD: O2\n",
      "  65536 bytes written to data/O2.data\n",
      "  65536 bytes written to data/O2.data\n",
      "  65536 bytes written to data/O2.data\n",
      "Header written to data/O2.header\n",
      "END DOWNLOAD\n",
      "                     Lines parsed: 1180\n",
      "PROCESSED\n"
     ]
    }
   ],
   "source": [
    "fetch_by_ids('O2',[36,37,38],NUMIN,NUMAX)\n",
    "#fetch('H2O',1,1,NUMIN,NUMAX)"
   ]
  },
  {
   "cell_type": "markdown",
   "metadata": {
    "deletable": true,
    "editable": true
   },
   "source": [
    "# Absorption coefficient"
   ]
  },
  {
   "cell_type": "markdown",
   "metadata": {
    "deletable": true,
    "editable": true
   },
   "source": [
    "## Absorption coefficient per molecule from Hapi/Hitran"
   ]
  },
  {
   "cell_type": "code",
   "execution_count": 20,
   "metadata": {
    "collapsed": false,
    "deletable": true,
    "editable": true
   },
   "outputs": [],
   "source": [
    "nu_us,coef_us = absorptionCoefficient_Lorentz(SourceTables='O2',OmegaStep=0.01,Environment={'p': Patm_us,'T': T_us})"
   ]
  },
  {
   "cell_type": "code",
   "execution_count": 21,
   "metadata": {
    "collapsed": true,
    "deletable": true,
    "editable": true
   },
   "outputs": [],
   "source": [
    "nu_mw,coef_mw = absorptionCoefficient_Lorentz(SourceTables='O2',OmegaStep=0.01,Environment={'p': Patm_mw,'T': T_mw})"
   ]
  },
  {
   "cell_type": "code",
   "execution_count": 22,
   "metadata": {
    "collapsed": true,
    "deletable": true,
    "editable": true
   },
   "outputs": [],
   "source": [
    "nu_ms,coef_ms = absorptionCoefficient_Lorentz(SourceTables='O2',OmegaStep=0.01,Environment={'p': Patm_ms,'T': T_ms})"
   ]
  },
  {
   "cell_type": "code",
   "execution_count": 23,
   "metadata": {
    "collapsed": false,
    "deletable": true,
    "editable": true
   },
   "outputs": [
    {
     "data": {
      "text/plain": [
       "<matplotlib.text.Text at 0x1176d3810>"
      ]
     },
     "execution_count": 23,
     "metadata": {},
     "output_type": "execute_result"
    },
    {
     "data": {
      "image/png": "[encoded data removed]",
      "text/plain": [
       "<matplotlib.figure.Figure at 0x111d19710>"
      ]
     },
     "metadata": {},
     "output_type": "display_data"
    }
   ],
   "source": [
    "plt.plot(nu_us,coef_us,'b-')\n",
    "plt.plot(nu_mw,coef_mw,'r-')\n",
    "plt.plot(nu_ms,coef_ms,'g-')\n",
    "plt.title('absorption coefficient for O2')\n",
    "plt.xlabel('wavenumber in $cm^{-1}$')\n",
    "plt.ylabel('absorption coefficient $cm^{2}/molecule $')"
   ]
  },
  {
   "cell_type": "code",
   "execution_count": 24,
   "metadata": {
    "collapsed": false,
    "deletable": true,
    "editable": true
   },
   "outputs": [
    {
     "data": {
      "text/plain": [
       "(500, 1000)"
      ]
     },
     "execution_count": 24,
     "metadata": {},
     "output_type": "execute_result"
    },
    {
     "data": {
      "image/png": "[encoded data removed]",
      "text/plain": [
       "<matplotlib.figure.Figure at 0x1187eedd0>"
      ]
     },
     "metadata": {},
     "output_type": "display_data"
    }
   ],
   "source": [
    "plt.plot(1e7/nu_us,coef_us,'b-')\n",
    "plt.plot(1e7/nu_mw,coef_mw,'r-')\n",
    "plt.plot(1e7/nu_ms,coef_ms,'g-')\n",
    "plt.title('absorption coefficient for O2')\n",
    "plt.xlabel('wavelength in nm ')\n",
    "plt.ylabel('absorption coefficient $cm^{2}/molecule $')\n",
    "plt.xlim(500,1000)"
   ]
  },
  {
   "cell_type": "markdown",
   "metadata": {
    "deletable": true,
    "editable": true
   },
   "source": [
    "## Absorption coefficient per length unit (cm)\n",
    "\n",
    "- Here we need the absorption coefficent from Hapi and the H2O density from LibRadRran"
   ]
  },
  {
   "cell_type": "code",
   "execution_count": 25,
   "metadata": {
    "collapsed": false,
    "deletable": true,
    "editable": true
   },
   "outputs": [],
   "source": [
    "coeff_us_l=coef_us*d_O2_us # in cm-1\n",
    "coeff_mw_l=coef_mw*d_O2_mw # in cm-1\n",
    "coeff_ms_l=coef_ms*d_O2_ms # in cm-1"
   ]
  },
  {
   "cell_type": "code",
   "execution_count": 26,
   "metadata": {
    "collapsed": true,
    "deletable": true,
    "editable": true
   },
   "outputs": [],
   "source": [
    "nu_t_us,trans_us = transmittanceSpectrum(nu_us,coeff_us_l,Environment={'l': Distance_source_tel})\n",
    "nu_t_mw,trans_mw = transmittanceSpectrum(nu_mw,coeff_mw_l,Environment={'l': Distance_source_tel})\n",
    "nu_t_ms,trans_ms = transmittanceSpectrum(nu_ms,coeff_ms_l,Environment={'l': Distance_source_tel})"
   ]
  },
  {
   "cell_type": "code",
   "execution_count": 27,
   "metadata": {
    "collapsed": false,
    "deletable": true,
    "editable": true
   },
   "outputs": [
    {
     "data": {
      "text/plain": [
       "<matplotlib.legend.Legend at 0x11875cd10>"
      ]
     },
     "execution_count": 27,
     "metadata": {},
     "output_type": "execute_result"
    },
    {
     "data": {
      "image/png": "[encoded data removed]",
      "text/plain": [
       "<matplotlib.figure.Figure at 0x120cc4110>"
      ]
     },
     "metadata": {},
     "output_type": "display_data"
    }
   ],
   "source": [
    "plt.plot(nu_t_ms,trans_ms,'g',lw=0.5,label='ms')\n",
    "plt.plot(nu_t_us,trans_us,'b',lw=0.5,label='us')\n",
    "plt.plot(nu_t_mw,trans_mw,'r',lw=0.5,label='mw')\n",
    "plt.title('Air transmittance for O2')\n",
    "plt.xlabel('wavenumber in $cm^{-1}$')\n",
    "plt.ylabel('transmittance ')\n",
    "plt.legend()"
   ]
  },
  {
   "cell_type": "code",
   "execution_count": 28,
   "metadata": {
    "collapsed": false,
    "deletable": true,
    "editable": true
   },
   "outputs": [],
   "source": [
    "nu_t_us_smooth,trans_us_smooth,i1,i2,slit = convolveSpectrum(nu_t_us,trans_us,SlitFunction=SLIT_RECTANGULAR,Resolution=100.0)"
   ]
  },
  {
   "cell_type": "code",
   "execution_count": 29,
   "metadata": {
    "collapsed": true,
    "deletable": true,
    "editable": true
   },
   "outputs": [],
   "source": [
    "nu_t_mw_smooth,trans_mw_smooth,i1,i2,slit = convolveSpectrum(nu_t_mw,trans_mw,SlitFunction=SLIT_RECTANGULAR,Resolution=100.0)"
   ]
  },
  {
   "cell_type": "code",
   "execution_count": 30,
   "metadata": {
    "collapsed": true,
    "deletable": true,
    "editable": true
   },
   "outputs": [],
   "source": [
    "nu_t_ms_smooth,trans_ms_smooth,i1,i2,slit = convolveSpectrum(nu_t_ms,trans_ms,SlitFunction=SLIT_RECTANGULAR,Resolution=100.0)"
   ]
  },
  {
   "cell_type": "code",
   "execution_count": 35,
   "metadata": {
    "collapsed": false,
    "deletable": true,
    "editable": true
   },
   "outputs": [
    {
     "data": {
      "text/plain": [
       "<matplotlib.legend.Legend at 0x11da439d0>"
      ]
     },
     "execution_count": 35,
     "metadata": {},
     "output_type": "execute_result"
    },
    {
     "data": {
      "image/png": "[encoded data removed]",
      "text/plain": [
       "<matplotlib.figure.Figure at 0x137af9750>"
      ]
     },
     "metadata": {},
     "output_type": "display_data"
    }
   ],
   "source": [
    "plt.plot(nu_t_ms_smooth,trans_ms_smooth,'g',label='ms')\n",
    "plt.plot(nu_t_us_smooth,trans_us_smooth,'b',label='us')\n",
    "plt.plot(nu_t_mw_smooth,trans_mw_smooth,'r',label='mw')\n",
    "plt.title('Smoothed Air transmittance for O2 (StarDice@OHP)')\n",
    "plt.xlabel('wavenumber in $cm^{-1}$')\n",
    "plt.ylabel('transmittance ')\n",
    "plt.xlim(12000.,15000.)\n",
    "plt.legend()"
   ]
  },
  {
   "cell_type": "code",
   "execution_count": 33,
   "metadata": {
    "collapsed": false,
    "deletable": true,
    "editable": true
   },
   "outputs": [
    {
     "data": {
      "text/plain": [
       "<matplotlib.legend.Legend at 0x131029e10>"
      ]
     },
     "execution_count": 33,
     "metadata": {},
     "output_type": "execute_result"
    },
    {
     "data": {
      "image/png": "[encoded data removed]",
      "text/plain": [
       "<matplotlib.figure.Figure at 0x111ddae10>"
      ]
     },
     "metadata": {},
     "output_type": "display_data"
    }
   ],
   "source": [
    "plt.plot(1e7/nu_t_ms_smooth,trans_ms_smooth,'g',label='ms')\n",
    "plt.plot(1e7/nu_t_us_smooth,trans_us_smooth,'b',label='us')\n",
    "plt.plot(1e7/nu_t_mw_smooth,trans_mw_smooth,'r',label='mw')\n",
    "plt.title('Smoothed Transmission for H2O absorption(StarDice@OHP)')\n",
    "plt.xlabel('wavelength in nm ')\n",
    "plt.ylabel('Air transmission with O2')\n",
    "plt.xlim(750,780)\n",
    "plt.legend()"
   ]
  },
  {
   "cell_type": "code",
   "execution_count": null,
   "metadata": {
    "collapsed": true,
    "deletable": true,
    "editable": true
   },
   "outputs": [],
   "source": []
  }
 ],
 "metadata": {
  "anaconda-cloud": {},
  "kernelspec": {
   "display_name": "Python [conda env:pyastrophys]",
   "language": "python",
   "name": "conda-env-pyastrophys-py"
  },
  "language_info": {
   "codemirror_mode": {
    "name": "ipython",
    "version": 2
   },
   "file_extension": ".py",
   "mimetype": "text/x-python",
   "name": "python",
   "nbconvert_exporter": "python",
   "pygments_lexer": "ipython2",
   "version": "2.7.12"
  },
  "toc": {
   "colors": {
    "hover_highlight": "#DAA520",
    "running_highlight": "#FF0000",
    "selected_highlight": "#FFD700"
   },
   "moveMenuLeft": true,
   "nav_menu": {
    "height": "47px",
    "width": "252px"
   },
   "navigate_menu": true,
   "number_sections": true,
   "sideBar": true,
   "threshold": 4,
   "toc_cell": false,
   "toc_section_display": "block",
   "toc_window_display": false,
   "widenNotebook": false
  }
 },
 "nbformat": 4,
 "nbformat_minor": 2
}
